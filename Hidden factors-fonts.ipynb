{
 "cells": [
  {
   "cell_type": "markdown",
   "metadata": {},
   "source": [
    "# Discovering hidden factors of variation in deep networks\n",
    "\n",
    "**This is an example of how to implement the autoencoder architecture from [Cheung et al. (2014)](http://arxiv.org/abs/1412.6583) in Lasagne.** This uses the code from the MNIST example bundled with Lasagne, so you will need to have the `mnist.py` file available for importing."
   ]
  },
  {
   "cell_type": "code",
   "execution_count": 1,
   "metadata": {
    "collapsed": false
   },
   "outputs": [],
   "source": [
    "%matplotlib inline\n",
    "import os\n",
    "os.environ[\"THEANO_FLAGS\"]= \"device=gpu1\""
   ]
  },
  {
   "cell_type": "code",
   "execution_count": 2,
   "metadata": {
    "collapsed": false
   },
   "outputs": [
    {
     "name": "stdout",
     "output_type": "stream",
     "text": [
      "Couldn't import dot_parser, loading of dot files will not be possible.\n"
     ]
    },
    {
     "name": "stderr",
     "output_type": "stream",
     "text": [
      "Using gpu device 1: Tesla K20m\n"
     ]
    }
   ],
   "source": [
    "import numpy as np\n",
    "import theano\n",
    "import theano.tensor as T\n",
    "import lasagne as nn\n",
    "w, h = 64, 64"
   ]
  },
  {
   "cell_type": "code",
   "execution_count": 3,
   "metadata": {
    "collapsed": false
   },
   "outputs": [],
   "source": [
    "from skimage.transform import resize\n",
    "from skimage.filter import threshold_otsu\n",
    "\n",
    "def binarize(X):\n",
    "    X_b = np.empty(X.shape, dtype=X.dtype)\n",
    "    for i in range(X.shape[0]):\n",
    "        X_b[i] = 1. * (X[i] <= threshold_otsu(X[i]))\n",
    "    return X_b\n",
    "\n",
    "def resize_all(X, w, h):\n",
    "    if X.shape[1] == w and X.shape[2] == h:\n",
    "        return X\n",
    "    X_b = np.empty((X.shape[0], w, h), dtype=X.dtype)\n",
    "    for i in range(X.shape[0]):\n",
    "        X_b[i] = resize(X[i], (w, h))\n",
    "    return X_b    \n"
   ]
  },
  {
   "cell_type": "markdown",
   "metadata": {},
   "source": [
    "**We'll define the model listed in the first column of Table 1 in the paper.**\n",
    "\n",
    "This model has an encoder with two ReLU layers. In the paper they both have 500 units but we'll make this configurable so we can speed up the experiment a bit if necessary.\n",
    "\n",
    "On top of the encoder are two representation layers: one is a 10-way softmax layer which represents the class of the input. This is the observed representation layer. Then there is also a latent representation layer which has two additional linear units (the authors use only two units for easy visualization).\n",
    "\n",
    "Both representation layers are concatenated and the decoder is stacked on top. This consists of three layers: two hidden ReLU layers with again 500 units, and finally a linear reconstruction layer with 784 outputs."
   ]
  },
  {
   "cell_type": "code",
   "execution_count": 4,
   "metadata": {
    "collapsed": true
   },
   "outputs": [],
   "source": [
    "def build_model(input_dim, output_dim, batch_size,\n",
    "                num_hidden_units=500):\n",
    "    l_in = nn.layers.InputLayer((batch_size, input_dim))\n",
    "    \n",
    "    # encoder\n",
    "    l_encoder1 = nn.layers.DenseLayer(l_in, num_units=num_hidden_units)\n",
    "    l_encoder2 = nn.layers.DenseLayer(l_encoder1, num_units=num_hidden_units)\n",
    "    l_encoder3 = nn.layers.DenseLayer(l_encoder2, num_units=num_hidden_units)\n",
    "    l_encoder4 = nn.layers.DenseLayer(l_encoder3, num_units=num_hidden_units)\n",
    "    \n",
    "    # learned representation\n",
    "    l_observed = nn.layers.DenseLayer(l_encoder4, num_units=output_dim,\n",
    "                                      nonlinearity=T.nnet.softmax)\n",
    "    \n",
    "    l_latent = nn.layers.DenseLayer(l_encoder4, \n",
    "                                    num_units=30,\n",
    "                                    nonlinearity=None) # linear\n",
    "    \n",
    "    l_representation = nn.layers.concat([l_observed, l_latent])\n",
    "    \n",
    "    # decoder\n",
    "    l_decoder1 = nn.layers.DenseLayer(l_representation, num_units=num_hidden_units)\n",
    "    l_decoder2 = nn.layers.DenseLayer(l_decoder1, num_units=num_hidden_units)\n",
    "    l_decoder3 = nn.layers.DenseLayer(l_decoder2, num_units=num_hidden_units)\n",
    "    l_decoder4 = nn.layers.DenseLayer(l_decoder3, num_units=num_hidden_units)\n",
    "    l_decoder_out = nn.layers.DenseLayer(l_decoder4, num_units=input_dim,\n",
    "                                       nonlinearity=nonlinearities.sigmoid)\n",
    "    \n",
    "    return l_in, l_decoder_out, l_observed, l_latent"
   ]
  },
  {
   "cell_type": "markdown",
   "metadata": {},
   "source": [
    "Next, **we'll define the cost function**. This consists of three parts: `alpha * U + beta * S + gamma * C` (formula 3 in the paper). `U` is the reconstruction cost, `S` is the supervised cost and `C` is the so-called \"XCov\" cost which disentangles the observed and latent variables of the encoder."
   ]
  },
  {
   "cell_type": "code",
   "execution_count": 8,
   "metadata": {
    "collapsed": true
   },
   "outputs": [],
   "source": [
    "def cost(x, y, x_recon, y_pred, z, alpha=1.0, beta=10.0, gamma=10.0):\n",
    "    \"\"\"\n",
    "    x, y: the input and the corresponding label\n",
    "    x_recon: the model reconstruction of the input\n",
    "    y_pred: the model prediction (observed variables)\n",
    "    z: the latent variables\n",
    "    \"\"\"\n",
    "    # reconstruction cost: mean squared error\n",
    "    U = ((x - x_recon)**2).mean()\n",
    "    \n",
    "    # supervised cost: categorical cross-entropy\n",
    "    S = T.mean(T.nnet.categorical_crossentropy(y_pred, y))\n",
    "    \n",
    "    # XCov cost: cross-covariance\n",
    "    y_pred_mean = T.mean(y_pred, axis=0, keepdims=True)\n",
    "    z_mean = T.mean(z, axis=0, keepdims=True)\n",
    "    y_pred_centered = y_pred - y_pred_mean # (n, i)\n",
    "    z_centered = z - z_mean # (n, j)\n",
    "    \n",
    "    outer_prod = (y_pred_centered.dimshuffle(0, 1, 'x') *\n",
    "                  z_centered.dimshuffle(0, 'x', 1)) # (n, i, j)\n",
    "    C = 0.5 * T.sum(T.sqr(T.mean(outer_prod, axis=0)))\n",
    "    \n",
    "    # the total cost is a weighted sum\n",
    "    return alpha * U + beta * S + gamma * C"
   ]
  },
  {
   "cell_type": "code",
   "execution_count": 9,
   "metadata": {
    "collapsed": true
   },
   "outputs": [],
   "source": [
    "from lasagne.datasets.mnist import MNIST\n",
    "from sklearn.cross_validation import train_test_split\n",
    "import lasagne.easy\n",
    "\n",
    "def load_data():\n",
    "    \"\"\"Get data with labels, split into training, validation and test set.\"\"\"\n",
    "    from lasagne.datasets.fonts import Fonts\n",
    "    \n",
    "    data = Fonts(kind=\"all_64\",\n",
    "                 labels_kind=\"letters\")\n",
    "    data.load()\n",
    "    \n",
    "    #data = MNIST()\n",
    "    #data.load()\n",
    "    \n",
    "    X = data.X\n",
    "    #X = X.reshape((X.shape[0], 28, 28))\n",
    "    #X = resize_all(X, w, h)\n",
    "    \n",
    "    #X = binarize(X)\n",
    "    X = 1 - X\n",
    "    X = X.astype(np.float32)\n",
    "    X = X.reshape((X.shape[0], w*h))\n",
    "    y = data.y\n",
    "    X_train_full, X_test, y_train_full, y_test = train_test_split(X, y, test_size=0.25)\n",
    "    X_train, X_valid, y_train, y_valid = train_test_split(X_train_full, y_train_full, test_size=0.25)\n",
    "    \n",
    "    return dict(\n",
    "        X_train=theano.shared(lasagne.utils.floatX(X_train)),\n",
    "        y_train=T.cast(theano.shared(y_train), 'int32'),\n",
    "        X_valid=theano.shared(lasagne.utils.floatX(X_valid)),\n",
    "        y_valid=T.cast(theano.shared(y_valid), 'int32'),\n",
    "        X_test=theano.shared(lasagne.utils.floatX(X_test)),\n",
    "        y_test=T.cast(theano.shared(y_test), 'int32'),\n",
    "        num_examples_train=X_train.shape[0],\n",
    "        num_examples_valid=X_valid.shape[0],\n",
    "        num_examples_test=X_test.shape[0],\n",
    "        input_dim=X_train.shape[1],\n",
    "        output_dim=len(set(y)),\n",
    "    )\n"
   ]
  },
  {
   "cell_type": "markdown",
   "metadata": {},
   "source": [
    "Now let's tie everything together in the main training loop."
   ]
  },
  {
   "cell_type": "code",
   "execution_count": 10,
   "metadata": {
    "collapsed": false,
    "scrolled": true
   },
   "outputs": [
    {
     "name": "stdout",
     "output_type": "stream",
     "text": [
      "Loading data...\n",
      "['X_test', 'num_examples_train', 'X_train', 'num_examples_valid', 'num_examples_test', 'output_dim', 'X_valid', 'y_valid', 'y_train', 'input_dim', 'y_test']\n"
     ]
    }
   ],
   "source": [
    "from mnist import train\n",
    "import time\n",
    "\n",
    "num_epochs = 200\n",
    "batch_size = 100\n",
    "\n",
    "print(\"Loading data...\")\n",
    "dataset = load_data()\n",
    "print(dataset.keys())\n"
   ]
  },
  {
   "cell_type": "code",
   "execution_count": 22,
   "metadata": {
    "collapsed": false
   },
   "outputs": [
    {
     "data": {
      "text/plain": [
       "<matplotlib.image.AxesImage at 0x7fc38b939a10>"
      ]
     },
     "execution_count": 22,
     "metadata": {},
     "output_type": "execute_result"
    },
    {
     "data": {
      "image/png": "[encoded data removed]",
      "text/plain": [
       "<matplotlib.figure.Figure at 0x7fc38b882d50>"
      ]
     },
     "metadata": {},
     "output_type": "display_data"
    }
   ],
   "source": [
    "import matplotlib.pyplot as plt\n",
    "plt.imshow(dataset[\"X_train\"].get_value()[12].reshape((64, 64)), cmap=\"gray\")"
   ]
  },
  {
   "cell_type": "code",
   "execution_count": 11,
   "metadata": {
    "collapsed": false
   },
   "outputs": [
    {
     "name": "stderr",
     "output_type": "stream",
     "text": [
      "/home/gridcl/mehdicherti/work/code/Lasagne/lasagne/init.py:91: UserWarning: The uniform initializer no longer uses Glorot et al.'s approach to determine the bounds, but defaults to the range (-0.01, 0.01) instead. Please use the new GlorotUniform initializer to get the old behavior. GlorotUniform is now the default for all layers.\n",
      "  warnings.warn(\"The uniform initializer no longer uses Glorot et al.'s \"\n",
      "/home/gridcl/mehdicherti/work/code/Lasagne/lasagne/layers/helper.py:69: UserWarning: get_all_layers() has been changed to return layers in topological order. The former implementation is still available as get_all_layers_old(), but will be removed before the first release of Lasagne. To ignore this warning, use `warnings.filterwarnings('ignore', '.*topo.*')`.\n",
      "  warnings.warn(\"get_all_layers() has been changed to return layers in \"\n"
     ]
    },
    {
     "name": "stdout",
     "output_type": "stream",
     "text": [
      "Building model and compiling functions...\n",
      "Starting training...\n",
      "Epoch 1 of 200 took 2.495s\n",
      "  training loss:\t\t1.583389\n",
      "  validation loss:\t\t1.001484\n",
      "  validation accuracy:\t\t77.08 %\n",
      "Epoch 2 of 200 took 2.493s\n",
      "  training loss:\t\t0.846368\n",
      "  validation loss:\t\t0.813100\n",
      "  validation accuracy:\t\t81.73 %\n",
      "Epoch 3 of 200 took 2.492s\n",
      "  training loss:\t\t0.663968\n",
      "  validation loss:\t\t0.708162\n",
      "  validation accuracy:\t\t83.58 %\n",
      "Epoch 4 of 200 took 2.491s\n",
      "  training loss:\t\t0.539015\n",
      "  validation loss:\t\t0.645696\n",
      "  validation accuracy:\t\t84.79 %\n",
      "Epoch 5 of 200 took 2.492s\n",
      "  training loss:\t\t0.449450\n",
      "  validation loss:\t\t0.602881\n",
      "  validation accuracy:\t\t85.98 %\n",
      "Epoch 6 of 200 took 2.493s\n",
      "  training loss:\t\t0.382991\n",
      "  validation loss:\t\t0.579477\n",
      "  validation accuracy:\t\t86.39 %\n",
      "Epoch 7 of 200 took 2.494s\n",
      "  training loss:\t\t0.328988\n",
      "  validation loss:\t\t0.561842\n",
      "  validation accuracy:\t\t86.97 %\n",
      "Epoch 8 of 200 took 2.493s\n",
      "  training loss:\t\t0.285024\n",
      "  validation loss:\t\t0.550020\n",
      "  validation accuracy:\t\t87.44 %\n",
      "Epoch 9 of 200 took 2.492s\n",
      "  training loss:\t\t0.249062\n",
      "  validation loss:\t\t0.546828\n",
      "  validation accuracy:\t\t87.58 %\n",
      "Epoch 10 of 200 took 2.493s\n",
      "  training loss:\t\t0.217162\n",
      "  validation loss:\t\t0.542059\n",
      "  validation accuracy:\t\t88.03 %\n",
      "Epoch 11 of 200 took 2.492s\n",
      "  training loss:\t\t0.194983\n",
      "  validation loss:\t\t0.544386\n",
      "  validation accuracy:\t\t88.69 %\n",
      "Epoch 12 of 200 took 2.492s\n",
      "  training loss:\t\t0.176591\n",
      "  validation loss:\t\t0.556063\n",
      "  validation accuracy:\t\t88.60 %\n",
      "Epoch 13 of 200 took 2.492s\n",
      "  training loss:\t\t0.180201\n",
      "  validation loss:\t\t0.531185\n",
      "  validation accuracy:\t\t88.35 %\n",
      "Epoch 14 of 200 took 2.493s\n",
      "  training loss:\t\t0.152395\n",
      "  validation loss:\t\t0.552858\n",
      "  validation accuracy:\t\t89.02 %\n",
      "Epoch 15 of 200 took 2.561s\n",
      "  training loss:\t\t0.140901\n",
      "  validation loss:\t\t0.565852\n",
      "  validation accuracy:\t\t88.65 %\n",
      "Epoch 16 of 200 took 2.490s\n",
      "  training loss:\t\t0.137894\n",
      "  validation loss:\t\t0.562033\n",
      "  validation accuracy:\t\t88.95 %\n",
      "Epoch 17 of 200 took 2.489s\n",
      "  training loss:\t\t0.129167\n",
      "  validation loss:\t\t0.583174\n",
      "  validation accuracy:\t\t88.85 %\n",
      "Epoch 18 of 200 took 2.490s\n",
      "  training loss:\t\t0.129059\n",
      "  validation loss:\t\t0.586195\n",
      "  validation accuracy:\t\t88.90 %\n",
      "Epoch 19 of 200 took 2.490s\n",
      "  training loss:\t\t0.121518\n",
      "  validation loss:\t\t0.586659\n",
      "  validation accuracy:\t\t89.32 %\n",
      "Epoch 20 of 200 took 2.489s\n",
      "  training loss:\t\t0.120841\n",
      "  validation loss:\t\t0.586655\n",
      "  validation accuracy:\t\t89.37 %\n",
      "Epoch 21 of 200 took 2.489s\n",
      "  training loss:\t\t0.115048\n",
      "  validation loss:\t\t0.596886\n",
      "  validation accuracy:\t\t89.31 %\n",
      "Epoch 22 of 200 took 2.490s\n",
      "  training loss:\t\t0.115713\n",
      "  validation loss:\t\t0.601573\n",
      "  validation accuracy:\t\t89.34 %\n",
      "Epoch 23 of 200 took 2.491s\n",
      "  training loss:\t\t0.116811\n",
      "  validation loss:\t\t0.606247\n",
      "  validation accuracy:\t\t89.10 %\n",
      "Epoch 24 of 200 took 2.489s\n",
      "  training loss:\t\t0.110998\n",
      "  validation loss:\t\t0.611377\n",
      "  validation accuracy:\t\t89.21 %\n",
      "Epoch 25 of 200 took 2.489s\n",
      "  training loss:\t\t0.110103\n",
      "  validation loss:\t\t0.615780\n",
      "  validation accuracy:\t\t89.32 %\n",
      "Epoch 26 of 200 took 2.489s\n",
      "  training loss:\t\t0.107258\n",
      "  validation loss:\t\t0.619592\n",
      "  validation accuracy:\t\t89.42 %\n",
      "Epoch 27 of 200 took 2.490s\n",
      "  training loss:\t\t0.111912\n",
      "  validation loss:\t\t0.622323\n",
      "  validation accuracy:\t\t89.11 %\n",
      "Epoch 28 of 200 took 2.489s\n",
      "  training loss:\t\t0.105504\n",
      "  validation loss:\t\t0.631256\n",
      "  validation accuracy:\t\t89.23 %\n",
      "Epoch 29 of 200 took 2.488s\n",
      "  training loss:\t\t0.103388\n",
      "  validation loss:\t\t0.638168\n",
      "  validation accuracy:\t\t89.24 %\n",
      "Epoch 30 of 200 took 2.490s\n",
      "  training loss:\t\t0.102483\n",
      "  validation loss:\t\t0.646833\n",
      "  validation accuracy:\t\t89.18 %\n",
      "Epoch 31 of 200 took 2.491s\n",
      "  training loss:\t\t0.101635\n",
      "  validation loss:\t\t0.655508\n",
      "  validation accuracy:\t\t89.06 %\n",
      "Epoch 32 of 200 took 2.491s\n",
      "  training loss:\t\t0.100882\n",
      "  validation loss:\t\t0.659607\n",
      "  validation accuracy:\t\t89.13 %\n",
      "Epoch 33 of 200 took 2.491s\n",
      "  training loss:\t\t0.100027\n",
      "  validation loss:\t\t0.666392\n",
      "  validation accuracy:\t\t89.23 %\n",
      "Epoch 34 of 200 took 2.491s\n",
      "  training loss:\t\t0.099388\n",
      "  validation loss:\t\t0.676590\n",
      "  validation accuracy:\t\t89.26 %\n",
      "Epoch 35 of 200 took 2.490s\n",
      "  training loss:\t\t0.098802\n",
      "  validation loss:\t\t0.680976\n",
      "  validation accuracy:\t\t89.19 %\n",
      "Epoch 36 of 200 took 2.491s\n",
      "  training loss:\t\t0.098215\n",
      "  validation loss:\t\t0.687328\n",
      "  validation accuracy:\t\t89.19 %\n",
      "Epoch 37 of 200 took 2.491s\n",
      "  training loss:\t\t0.097730\n",
      "  validation loss:\t\t0.690474\n",
      "  validation accuracy:\t\t89.18 %\n",
      "Epoch 38 of 200 took 2.491s\n",
      "  training loss:\t\t0.097195\n",
      "  validation loss:\t\t0.696452\n",
      "  validation accuracy:\t\t89.13 %\n",
      "Epoch 39 of 200 took 2.491s\n",
      "  training loss:\t\t0.096726\n",
      "  validation loss:\t\t0.699991\n",
      "  validation accuracy:\t\t89.11 %\n",
      "Epoch 40 of 200 took 2.490s\n",
      "  training loss:\t\t0.096367\n",
      "  validation loss:\t\t0.703067\n",
      "  validation accuracy:\t\t89.13 %\n",
      "Epoch 41 of 200 took 2.491s\n",
      "  training loss:\t\t0.095709\n",
      "  validation loss:\t\t0.704313\n",
      "  validation accuracy:\t\t89.23 %\n",
      "Epoch 42 of 200 took 2.491s\n",
      "  training loss:\t\t0.095370\n",
      "  validation loss:\t\t0.706763\n",
      "  validation accuracy:\t\t89.18 %\n",
      "Epoch 43 of 200 took 2.492s\n",
      "  training loss:\t\t0.094901\n",
      "  validation loss:\t\t0.712001\n",
      "  validation accuracy:\t\t89.19 %\n",
      "Epoch 44 of 200 took 2.491s\n",
      "  training loss:\t\t0.094419\n",
      "  validation loss:\t\t0.712884\n",
      "  validation accuracy:\t\t89.24 %\n",
      "Epoch 45 of 200 took 2.491s\n",
      "  training loss:\t\t0.093947\n",
      "  validation loss:\t\t0.715111\n",
      "  validation accuracy:\t\t89.16 %\n",
      "Epoch 46 of 200 took 2.491s\n",
      "  training loss:\t\t0.093647\n",
      "  validation loss:\t\t0.717181\n",
      "  validation accuracy:\t\t89.19 %\n",
      "Epoch 47 of 200 took 2.492s\n",
      "  training loss:\t\t0.093310\n",
      "  validation loss:\t\t0.719273\n",
      "  validation accuracy:\t\t89.10 %\n",
      "Epoch 48 of 200 took 2.491s\n",
      "  training loss:\t\t0.094190\n",
      "  validation loss:\t\t0.717892\n",
      "  validation accuracy:\t\t89.05 %\n",
      "Epoch 49 of 200 took 2.491s\n",
      "  training loss:\t\t0.093580\n",
      "  validation loss:\t\t0.721509\n",
      "  validation accuracy:\t\t89.11 %\n",
      "Epoch 50 of 200 took 2.492s\n",
      "  training loss:\t\t0.092185\n",
      "  validation loss:\t\t0.723422\n",
      "  validation accuracy:\t\t89.21 %\n",
      "Epoch 51 of 200 took 2.492s\n",
      "  training loss:\t\t0.091966\n",
      "  validation loss:\t\t0.725588\n",
      "  validation accuracy:\t\t89.18 %\n",
      "Epoch 52 of 200 took 2.491s\n",
      "  training loss:\t\t0.091280\n",
      "  validation loss:\t\t0.727950\n",
      "  validation accuracy:\t\t89.11 %\n",
      "Epoch 53 of 200 took 2.491s\n",
      "  training loss:\t\t0.091088\n",
      "  validation loss:\t\t0.731564\n",
      "  validation accuracy:\t\t89.16 %\n",
      "Epoch 54 of 200 took 2.492s\n",
      "  training loss:\t\t0.091484\n",
      "  validation loss:\t\t0.727432\n",
      "  validation accuracy:\t\t89.16 %\n",
      "Epoch 55 of 200 took 2.492s\n",
      "  training loss:\t\t0.106146\n",
      "  validation loss:\t\t0.768213\n",
      "  validation accuracy:\t\t88.00 %\n",
      "Epoch 56 of 200 took 2.492s\n",
      "  training loss:\t\t0.099456\n",
      "  validation loss:\t\t0.684051\n",
      "  validation accuracy:\t\t89.23 %\n",
      "Epoch 57 of 200 took 2.491s\n",
      "  training loss:\t\t0.092306\n",
      "  validation loss:\t\t0.702325\n",
      "  validation accuracy:\t\t89.03 %\n",
      "Epoch 58 of 200 took 2.490s\n",
      "  training loss:\t\t0.090834\n",
      "  validation loss:\t\t0.702209\n",
      "  validation accuracy:\t\t89.24 %\n",
      "Epoch 59 of 200 took 2.491s\n",
      "  training loss:\t\t0.089520\n",
      "  validation loss:\t\t0.729789\n",
      "  validation accuracy:\t\t89.15 %\n",
      "Epoch 60 of 200 took 2.491s\n",
      "  training loss:\t\t0.089216\n",
      "  validation loss:\t\t0.715907\n",
      "  validation accuracy:\t\t89.15 %\n",
      "Epoch 61 of 200 took 2.490s\n",
      "  training loss:\t\t0.088503\n",
      "  validation loss:\t\t0.722241\n",
      "  validation accuracy:\t\t89.06 %\n",
      "Epoch 62 of 200 took 2.492s\n",
      "  training loss:\t\t0.088306\n",
      "  validation loss:\t\t0.727414\n",
      "  validation accuracy:\t\t89.05 %\n",
      "Epoch 63 of 200 took 2.491s\n",
      "  training loss:\t\t0.088095\n",
      "  validation loss:\t\t0.730972\n",
      "  validation accuracy:\t\t89.06 %\n",
      "Epoch 64 of 200 took 2.491s\n",
      "  training loss:\t\t0.087921\n",
      "  validation loss:\t\t0.731688\n",
      "  validation accuracy:\t\t88.97 %\n",
      "Epoch 65 of 200 took 2.491s\n",
      "  training loss:\t\t0.088246\n",
      "  validation loss:\t\t0.728006\n",
      "  validation accuracy:\t\t89.05 %\n",
      "Epoch 66 of 200 took 2.491s\n",
      "  training loss:\t\t0.087915\n",
      "  validation loss:\t\t0.732606\n",
      "  validation accuracy:\t\t89.18 %\n",
      "Epoch 67 of 200 took 2.491s\n",
      "  training loss:\t\t0.087129\n",
      "  validation loss:\t\t0.734964\n",
      "  validation accuracy:\t\t89.03 %\n",
      "Epoch 68 of 200 took 2.492s\n",
      "  training loss:\t\t0.087069\n",
      "  validation loss:\t\t0.734553\n",
      "  validation accuracy:\t\t89.02 %\n",
      "Epoch 69 of 200 took 2.492s\n",
      "  training loss:\t\t0.086835\n",
      "  validation loss:\t\t0.738207\n",
      "  validation accuracy:\t\t89.02 %\n",
      "Epoch 70 of 200 took 2.492s\n",
      "  training loss:\t\t0.086177\n",
      "  validation loss:\t\t0.737044\n",
      "  validation accuracy:\t\t89.06 %\n",
      "Epoch 71 of 200 took 2.492s\n",
      "  training loss:\t\t0.086431\n",
      "  validation loss:\t\t0.739340\n",
      "  validation accuracy:\t\t89.06 %\n",
      "Epoch 72 of 200 took 2.492s\n",
      "  training loss:\t\t0.086027\n",
      "  validation loss:\t\t0.741365\n",
      "  validation accuracy:\t\t89.06 %\n",
      "Epoch 73 of 200 took 2.493s\n",
      "  training loss:\t\t0.085632\n",
      "  validation loss:\t\t0.744937\n",
      "  validation accuracy:\t\t89.00 %\n",
      "Epoch 74 of 200 took 2.492s\n",
      "  training loss:\t\t0.085499\n",
      "  validation loss:\t\t0.742272\n",
      "  validation accuracy:\t\t89.05 %\n",
      "Epoch 75 of 200 took 2.493s\n",
      "  training loss:\t\t0.085150\n",
      "  validation loss:\t\t0.744563\n",
      "  validation accuracy:\t\t89.06 %\n",
      "Epoch 76 of 200 took 2.491s\n",
      "  training loss:\t\t0.084946\n",
      "  validation loss:\t\t0.746054\n",
      "  validation accuracy:\t\t89.03 %\n",
      "Epoch 77 of 200 took 2.492s\n",
      "  training loss:\t\t0.084658\n",
      "  validation loss:\t\t0.747529\n",
      "  validation accuracy:\t\t89.13 %\n",
      "Epoch 78 of 200 took 2.492s\n",
      "  training loss:\t\t0.084419\n",
      "  validation loss:\t\t0.747953\n",
      "  validation accuracy:\t\t89.08 %\n",
      "Epoch 79 of 200 took 2.492s\n",
      "  training loss:\t\t0.084225\n",
      "  validation loss:\t\t0.750129\n",
      "  validation accuracy:\t\t89.08 %\n",
      "Epoch 80 of 200 took 2.493s\n",
      "  training loss:\t\t0.083943\n",
      "  validation loss:\t\t0.748235\n",
      "  validation accuracy:\t\t88.85 %\n",
      "Epoch 81 of 200 took 2.493s\n",
      "  training loss:\t\t0.084135\n",
      "  validation loss:\t\t0.745299\n",
      "  validation accuracy:\t\t89.05 %\n",
      "Epoch 82 of 200 took 2.492s\n",
      "  training loss:\t\t0.083552\n",
      "  validation loss:\t\t0.749468\n",
      "  validation accuracy:\t\t89.05 %\n",
      "Epoch 83 of 200 took 2.492s\n",
      "  training loss:\t\t0.083228\n",
      "  validation loss:\t\t0.751379\n",
      "  validation accuracy:\t\t89.02 %\n",
      "Epoch 84 of 200 took 2.492s\n",
      "  training loss:\t\t0.112685\n",
      "  validation loss:\t\t0.672373\n",
      "  validation accuracy:\t\t89.11 %\n",
      "Epoch 85 of 200 took 2.490s\n",
      "  training loss:\t\t0.089984\n",
      "  validation loss:\t\t0.686180\n",
      "  validation accuracy:\t\t89.47 %\n",
      "Epoch 86 of 200 took 2.491s\n",
      "  training loss:\t\t0.085855\n",
      "  validation loss:\t\t0.688982\n",
      "  validation accuracy:\t\t89.53 %\n",
      "Epoch 87 of 200 took 2.492s\n",
      "  training loss:\t\t0.083553\n",
      "  validation loss:\t\t0.704002\n",
      "  validation accuracy:\t\t89.48 %\n",
      "Epoch 88 of 200 took 2.491s\n",
      "  training loss:\t\t0.082995\n",
      "  validation loss:\t\t0.707116\n",
      "  validation accuracy:\t\t89.35 %\n",
      "Epoch 89 of 200 took 2.492s\n",
      "  training loss:\t\t0.082463\n",
      "  validation loss:\t\t0.717457\n",
      "  validation accuracy:\t\t89.39 %\n",
      "Epoch 90 of 200 took 2.492s\n",
      "  training loss:\t\t0.082435\n",
      "  validation loss:\t\t0.721031\n",
      "  validation accuracy:\t\t89.29 %\n",
      "Epoch 91 of 200 took 2.491s\n",
      "  training loss:\t\t0.082168\n",
      "  validation loss:\t\t0.720919\n",
      "  validation accuracy:\t\t89.21 %\n",
      "Epoch 92 of 200 took 2.492s\n",
      "  training loss:\t\t0.083264\n",
      "  validation loss:\t\t0.720412\n",
      "  validation accuracy:\t\t89.26 %\n",
      "Epoch 93 of 200 took 2.492s\n",
      "  training loss:\t\t0.081928\n",
      "  validation loss:\t\t0.727759\n",
      "  validation accuracy:\t\t89.27 %\n",
      "Epoch 94 of 200 took 2.491s\n",
      "  training loss:\t\t0.081712\n",
      "  validation loss:\t\t0.730674\n",
      "  validation accuracy:\t\t89.32 %\n",
      "Epoch 95 of 200 took 2.492s\n",
      "  training loss:\t\t0.081548\n",
      "  validation loss:\t\t0.732110\n",
      "  validation accuracy:\t\t89.31 %\n",
      "Epoch 96 of 200 took 2.492s\n",
      "  training loss:\t\t0.081284\n",
      "  validation loss:\t\t0.736098\n",
      "  validation accuracy:\t\t89.34 %\n",
      "Epoch 97 of 200 took 2.491s\n",
      "  training loss:\t\t0.081125\n",
      "  validation loss:\t\t0.736046\n",
      "  validation accuracy:\t\t89.35 %\n",
      "Epoch 98 of 200 took 2.493s\n",
      "  training loss:\t\t0.080917\n",
      "  validation loss:\t\t0.740308\n",
      "  validation accuracy:\t\t89.32 %\n",
      "Epoch 99 of 200 took 2.491s\n",
      "  training loss:\t\t0.080880\n",
      "  validation loss:\t\t0.740044\n",
      "  validation accuracy:\t\t89.29 %\n",
      "Epoch 100 of 200 took 2.492s\n",
      "  training loss:\t\t0.080663\n",
      "  validation loss:\t\t0.740821\n",
      "  validation accuracy:\t\t89.31 %\n",
      "Epoch 101 of 200 took 2.492s\n",
      "  training loss:\t\t0.080447\n",
      "  validation loss:\t\t0.745410\n",
      "  validation accuracy:\t\t89.34 %\n",
      "Epoch 102 of 200 took 2.493s\n",
      "  training loss:\t\t0.080516\n",
      "  validation loss:\t\t0.746142\n",
      "  validation accuracy:\t\t89.29 %\n",
      "Epoch 103 of 200 took 2.493s\n",
      "  training loss:\t\t0.080228\n",
      "  validation loss:\t\t0.748007\n",
      "  validation accuracy:\t\t89.27 %\n",
      "Epoch 104 of 200 took 2.493s\n",
      "  training loss:\t\t0.080409\n",
      "  validation loss:\t\t0.747669\n",
      "  validation accuracy:\t\t89.24 %\n",
      "Epoch 105 of 200 took 2.493s\n",
      "  training loss:\t\t0.079868\n",
      "  validation loss:\t\t0.751808\n",
      "  validation accuracy:\t\t89.24 %\n",
      "Epoch 106 of 200 took 2.492s\n",
      "  training loss:\t\t0.079746\n",
      "  validation loss:\t\t0.749744\n",
      "  validation accuracy:\t\t89.32 %\n",
      "Epoch 107 of 200 took 2.493s\n",
      "  training loss:\t\t0.079643\n",
      "  validation loss:\t\t0.751183\n",
      "  validation accuracy:\t\t89.29 %\n",
      "Epoch 108 of 200 took 2.493s\n",
      "  training loss:\t\t0.079652\n",
      "  validation loss:\t\t0.747175\n",
      "  validation accuracy:\t\t89.18 %\n",
      "Epoch 109 of 200 took 2.492s\n",
      "  training loss:\t\t0.079875\n",
      "  validation loss:\t\t0.756324\n",
      "  validation accuracy:\t\t89.34 %\n",
      "Epoch 110 of 200 took 2.493s\n",
      "  training loss:\t\t0.079365\n",
      "  validation loss:\t\t0.754415\n",
      "  validation accuracy:\t\t89.29 %\n",
      "Epoch 111 of 200 took 2.494s\n",
      "  training loss:\t\t0.079128\n",
      "  validation loss:\t\t0.754516\n",
      "  validation accuracy:\t\t89.19 %\n",
      "Epoch 112 of 200 took 2.493s\n",
      "  training loss:\t\t0.079303\n",
      "  validation loss:\t\t0.749477\n",
      "  validation accuracy:\t\t89.23 %\n",
      "Epoch 113 of 200 took 2.494s\n",
      "  training loss:\t\t0.079014\n",
      "  validation loss:\t\t0.753808\n",
      "  validation accuracy:\t\t89.29 %\n",
      "Epoch 114 of 200 took 2.494s\n",
      "  training loss:\t\t0.078987\n",
      "  validation loss:\t\t0.753545\n",
      "  validation accuracy:\t\t89.24 %\n",
      "Epoch 115 of 200 took 2.493s\n",
      "  training loss:\t\t0.078985\n",
      "  validation loss:\t\t0.753799\n",
      "  validation accuracy:\t\t89.31 %\n",
      "Epoch 116 of 200 took 2.493s\n",
      "  training loss:\t\t0.078758\n",
      "  validation loss:\t\t0.758224\n",
      "  validation accuracy:\t\t89.18 %\n"
     ]
    }
   ],
   "source": [
    "\n",
    "print(\"Building model and compiling functions...\")\n",
    "l_in, l_decoder_out, l_observed, l_latent = build_model(\n",
    "    input_dim=dataset['input_dim'],\n",
    "    output_dim=dataset['output_dim'],\n",
    "    batch_size=batch_size,\n",
    ")\n",
    "\n",
    "x = l_in.input_var\n",
    "y = T.ivector('y')\n",
    "x_recon, y_pred, z = nn.layers.get_output([l_decoder_out, l_observed, l_latent])\n",
    "# Note that we call get_output() once to get all the model outputs.\n",
    "# This is to guarantee they are consistent and share computations where\n",
    "# possible. When the network contains nondeterminism (such as dropout\n",
    "# regularization), guaranteeing this consistency is crucially important.\n",
    "loss = cost(x, y, x_recon, y_pred, z, gamma=0, alpha=1, beta=1)\n",
    "params = nn.layers.get_all_params(l_decoder_out)\n",
    "\n",
    "# # add some L2 regularization\n",
    "# params_reg = nn.layers.get_all_params(l_decoder_out, regularizable=True)\n",
    "# reg = sum(T.sum(p**2) for p in params_reg)\n",
    "# loss += 0.01 * reg\n",
    "\n",
    "# The authors mention that they use adadelta, let's do the same\n",
    "updates = nn.updates.adadelta(loss, params, learning_rate=0.1)\n",
    "\n",
    "# compile iteration functions\n",
    "batch_index = T.iscalar('batch_index')\n",
    "batch_slice = slice(batch_index * batch_size,\n",
    "                    (batch_index + 1) * batch_size)\n",
    "\n",
    "pred = T.argmax(y_pred, axis=1)\n",
    "accuracy = T.mean(T.eq(pred, y), dtype=theano.config.floatX)\n",
    "\n",
    "iter_train = theano.function(\n",
    "    [batch_index], loss,\n",
    "    updates=updates,\n",
    "    givens={\n",
    "        x: dataset['X_train'][batch_slice],\n",
    "        y: dataset['y_train'][batch_slice],\n",
    "    },\n",
    ")\n",
    "\n",
    "iter_valid = theano.function(\n",
    "    [batch_index], [loss, accuracy],\n",
    "    givens={\n",
    "        x: dataset['X_valid'][batch_slice],\n",
    "        y: dataset['y_valid'][batch_slice],\n",
    "    },\n",
    ")\n",
    "\n",
    "iter_test = theano.function(\n",
    "    [batch_index], [loss, accuracy],\n",
    "    givens={\n",
    "        x: dataset['X_test'][batch_slice],\n",
    "        y: dataset['y_test'][batch_slice],\n",
    "    },\n",
    ")\n",
    "\n",
    "iter_funcs =  dict(\n",
    "    train=iter_train,\n",
    "    valid=iter_valid,\n",
    "    test=iter_test,\n",
    ")\n",
    "\n",
    "print(\"Starting training...\")\n",
    "now = time.time()\n",
    "try:\n",
    "    for epoch in train(iter_funcs, dataset, batch_size=batch_size):\n",
    "        print(\"Epoch {} of {} took {:.3f}s\".format(\n",
    "            epoch['number'], num_epochs, time.time() - now))\n",
    "        now = time.time()\n",
    "        print(\"  training loss:\\t\\t{:.6f}\".format(epoch['train_loss']))\n",
    "        print(\"  validation loss:\\t\\t{:.6f}\".format(epoch['valid_loss']))\n",
    "        \n",
    "        print(\"  validation accuracy:\\t\\t{:.2f} %\".format(\n",
    "            epoch['valid_accuracy'] * 100))\n",
    "\n",
    "        if epoch['number'] >= num_epochs:\n",
    "            break\n",
    "\n",
    "except KeyboardInterrupt:\n",
    "    pass"
   ]
  },
  {
   "cell_type": "markdown",
   "metadata": {},
   "source": [
    "Now let's create a function that computes the latent representation variables z so we can visualize them on the test set."
   ]
  },
  {
   "cell_type": "code",
   "execution_count": 12,
   "metadata": {
    "collapsed": false
   },
   "outputs": [],
   "source": [
    "z = nn.layers.get_output(l_latent)\n",
    "\n",
    "compute_z = theano.function(\n",
    "    [], z,\n",
    "    givens={\n",
    "        x: dataset['X_test'],\n",
    "    },\n",
    ")\n",
    "\n",
    "z_vals = compute_z()"
   ]
  },
  {
   "cell_type": "code",
   "execution_count": 13,
   "metadata": {
    "collapsed": false
   },
   "outputs": [
    {
     "data": {
      "image/png": "[encoded data removed]",
      "text/plain": [
       "<matplotlib.figure.Figure at 0x7fdd9cd6ebd0>"
      ]
     },
     "metadata": {},
     "output_type": "display_data"
    }
   ],
   "source": [
    "import matplotlib.pyplot as plt\n",
    "plt.figure()\n",
    "plt.scatter(z_vals[:, 0], z_vals[:, 1], alpha=0.1)\n",
    "plt.show()"
   ]
  },
  {
   "cell_type": "markdown",
   "metadata": {},
   "source": [
    "This corresponds to figure 4a in the paper. Our latent variables have a smaller magnitude overall, but exhibit a roughly Gaussian distribution just like in the paper.\n",
    "\n",
    "Now let's generate some reconstructions. Our aim is to reproduce figures 4b and 4c. We'll need to compile a function that allows us to set the desired values for the latent variables `y` and `z`.\n",
    "\n",
    "Lasagne makes it possible to map any layer in the network to a custom expression by supplying a dictionary to `nn.layers.get_output()`. We'll make use of this to 'clamp' the observed and latent representation variables."
   ]
  },
  {
   "cell_type": "code",
   "execution_count": 14,
   "metadata": {
    "collapsed": true
   },
   "outputs": [],
   "source": [
    "y_clamped = T.ivector('y_clamped')\n",
    "z_clamped = T.matrix('z_clamped')\n",
    "\n",
    "x_recon = nn.layers.get_output(l_decoder_out, {\n",
    "        l_observed: nn.utils.one_hot(y_clamped, m=dataset[\"output_dim\"]),\n",
    "        l_latent: z_clamped,\n",
    "    })\n",
    "\n",
    "reconstruct = theano.function([y_clamped, z_clamped], x_recon)"
   ]
  },
  {
   "cell_type": "code",
   "execution_count": 19,
   "metadata": {
    "collapsed": false
   },
   "outputs": [],
   "source": [
    "R = 30\n",
    "ys = np.repeat(np.arange(dataset[\"output_dim\"]), R).astype('int32')\n",
    "zs = np.tile(np.linspace(-0.5, 0.5, R), dataset[\"output_dim\"]).astype(theano.config.floatX)\n",
    "z1s = np.vstack([zs, np.zeros_like(zs)]).T\n",
    "z2s = np.vstack([np.zeros_like(zs), zs]).T"
   ]
  },
  {
   "cell_type": "code",
   "execution_count": 20,
   "metadata": {
    "collapsed": false
   },
   "outputs": [
    {
     "ename": "ValueError",
     "evalue": "dimension mismatch in args to gemm (780,28)x(56,500)->(780,500)\nApply node that caused the error: GpuDot22(GpuFromHost.0, W)\nInputs types: [CudaNdarrayType(float32, matrix), CudaNdarrayType(float32, matrix)]\nInputs shapes: [(780, 28), (56, 500)]\nInputs strides: [(28, 1), (500, 1)]\nInputs values: ['not shown', 'not shown']\n\nHINT: Re-running with most Theano optimization disabled could give you a back-trace of when this node was created. This can be done with by setting the Theano flag 'optimizer=fast_compile'. If that does not work, Theano optimizations can be disabled with 'optimizer=None'.\nHINT: Use the Theano flag 'exception_verbosity=high' for a debugprint and storage map footprint of this apply node.",
     "output_type": "error",
     "traceback": [
      "\u001b[1;31m---------------------------------------------------------------------------\u001b[0m",
      "\u001b[1;31mValueError\u001b[0m                                Traceback (most recent call last)",
      "\u001b[1;32m<ipython-input-20-5b1297da8c5c>\u001b[0m in \u001b[0;36m<module>\u001b[1;34m()\u001b[0m\n\u001b[1;32m----> 1\u001b[1;33m \u001b[0mreconstructions_z1\u001b[0m \u001b[1;33m=\u001b[0m \u001b[0mreconstruct\u001b[0m\u001b[1;33m(\u001b[0m\u001b[0mys\u001b[0m\u001b[1;33m,\u001b[0m \u001b[0mz1s\u001b[0m\u001b[1;33m)\u001b[0m\u001b[1;33m\u001b[0m\u001b[0m\n\u001b[0m\u001b[0;32m      2\u001b[0m \u001b[0mreconstructions_z2\u001b[0m \u001b[1;33m=\u001b[0m \u001b[0mreconstruct\u001b[0m\u001b[1;33m(\u001b[0m\u001b[0mys\u001b[0m\u001b[1;33m,\u001b[0m \u001b[0mz2s\u001b[0m\u001b[1;33m)\u001b[0m\u001b[1;33m\u001b[0m\u001b[0m\n",
      "\u001b[1;32m/grid_mnt/vol__vol_U__u/gridcl/mehdicherti/build/Theano/theano/compile/function_module.pyc\u001b[0m in \u001b[0;36m__call__\u001b[1;34m(self, *args, **kwargs)\u001b[0m\n\u001b[0;32m    604\u001b[0m                         \u001b[0mself\u001b[0m\u001b[1;33m.\u001b[0m\u001b[0mfn\u001b[0m\u001b[1;33m.\u001b[0m\u001b[0mnodes\u001b[0m\u001b[1;33m[\u001b[0m\u001b[0mself\u001b[0m\u001b[1;33m.\u001b[0m\u001b[0mfn\u001b[0m\u001b[1;33m.\u001b[0m\u001b[0mposition_of_error\u001b[0m\u001b[1;33m]\u001b[0m\u001b[1;33m,\u001b[0m\u001b[1;33m\u001b[0m\u001b[0m\n\u001b[0;32m    605\u001b[0m                         \u001b[0mself\u001b[0m\u001b[1;33m.\u001b[0m\u001b[0mfn\u001b[0m\u001b[1;33m.\u001b[0m\u001b[0mthunks\u001b[0m\u001b[1;33m[\u001b[0m\u001b[0mself\u001b[0m\u001b[1;33m.\u001b[0m\u001b[0mfn\u001b[0m\u001b[1;33m.\u001b[0m\u001b[0mposition_of_error\u001b[0m\u001b[1;33m]\u001b[0m\u001b[1;33m,\u001b[0m\u001b[1;33m\u001b[0m\u001b[0m\n\u001b[1;32m--> 606\u001b[1;33m                         storage_map=self.fn.storage_map)\n\u001b[0m\u001b[0;32m    607\u001b[0m                 \u001b[1;32melse\u001b[0m\u001b[1;33m:\u001b[0m\u001b[1;33m\u001b[0m\u001b[0m\n\u001b[0;32m    608\u001b[0m                     \u001b[1;31m# For the c linker We don't have access from\u001b[0m\u001b[1;33m\u001b[0m\u001b[1;33m\u001b[0m\u001b[0m\n",
      "\u001b[1;32m/grid_mnt/vol__vol_U__u/gridcl/mehdicherti/build/Theano/theano/compile/function_module.pyc\u001b[0m in \u001b[0;36m__call__\u001b[1;34m(self, *args, **kwargs)\u001b[0m\n\u001b[0;32m    593\u001b[0m         \u001b[0mt0_fn\u001b[0m \u001b[1;33m=\u001b[0m \u001b[0mtime\u001b[0m\u001b[1;33m.\u001b[0m\u001b[0mtime\u001b[0m\u001b[1;33m(\u001b[0m\u001b[1;33m)\u001b[0m\u001b[1;33m\u001b[0m\u001b[0m\n\u001b[0;32m    594\u001b[0m         \u001b[1;32mtry\u001b[0m\u001b[1;33m:\u001b[0m\u001b[1;33m\u001b[0m\u001b[0m\n\u001b[1;32m--> 595\u001b[1;33m             \u001b[0moutputs\u001b[0m \u001b[1;33m=\u001b[0m \u001b[0mself\u001b[0m\u001b[1;33m.\u001b[0m\u001b[0mfn\u001b[0m\u001b[1;33m(\u001b[0m\u001b[1;33m)\u001b[0m\u001b[1;33m\u001b[0m\u001b[0m\n\u001b[0m\u001b[0;32m    596\u001b[0m         \u001b[1;32mexcept\u001b[0m \u001b[0mException\u001b[0m\u001b[1;33m:\u001b[0m\u001b[1;33m\u001b[0m\u001b[0m\n\u001b[0;32m    597\u001b[0m             \u001b[1;32mif\u001b[0m \u001b[0mhasattr\u001b[0m\u001b[1;33m(\u001b[0m\u001b[0mself\u001b[0m\u001b[1;33m.\u001b[0m\u001b[0mfn\u001b[0m\u001b[1;33m,\u001b[0m \u001b[1;34m'position_of_error'\u001b[0m\u001b[1;33m)\u001b[0m\u001b[1;33m:\u001b[0m\u001b[1;33m\u001b[0m\u001b[0m\n",
      "\u001b[1;31mValueError\u001b[0m: dimension mismatch in args to gemm (780,28)x(56,500)->(780,500)\nApply node that caused the error: GpuDot22(GpuFromHost.0, W)\nInputs types: [CudaNdarrayType(float32, matrix), CudaNdarrayType(float32, matrix)]\nInputs shapes: [(780, 28), (56, 500)]\nInputs strides: [(28, 1), (500, 1)]\nInputs values: ['not shown', 'not shown']\n\nHINT: Re-running with most Theano optimization disabled could give you a back-trace of when this node was created. This can be done with by setting the Theano flag 'optimizer=fast_compile'. If that does not work, Theano optimizations can be disabled with 'optimizer=None'.\nHINT: Use the Theano flag 'exception_verbosity=high' for a debugprint and storage map footprint of this apply node."
     ]
    }
   ],
   "source": [
    "reconstructions_z1 = reconstruct(ys, z1s)\n",
    "reconstructions_z2 = reconstruct(ys, z2s)"
   ]
  },
  {
   "cell_type": "code",
   "execution_count": 28,
   "metadata": {
    "collapsed": false
   },
   "outputs": [
    {
     "data": {
      "image/png": "[encoded data removed]",
      "text/plain": [
       "<matplotlib.figure.Figure at 0x7fc38be17910>"
      ]
     },
     "metadata": {},
     "output_type": "display_data"
    }
   ],
   "source": [
    "im1 = reconstructions_z1.reshape(dataset[\"output_dim\"], R, w, h).transpose(1, 2, 0, 3).reshape(R * w, dataset[\"output_dim\"] * h)\n",
    "plt.imshow(im1, cmap=plt.cm.gray)\n",
    "plt.show()"
   ]
  },
  {
   "cell_type": "code",
   "execution_count": 15,
   "metadata": {
    "collapsed": false
   },
   "outputs": [
    {
     "ename": "ValueError",
     "evalue": "total size of new array must be unchanged",
     "output_type": "error",
     "traceback": [
      "\u001b[1;31m---------------------------------------------------------------------------\u001b[0m",
      "\u001b[1;31mValueError\u001b[0m                                Traceback (most recent call last)",
      "\u001b[1;32m<ipython-input-15-edc7e1b4cf80>\u001b[0m in \u001b[0;36m<module>\u001b[1;34m()\u001b[0m\n\u001b[1;32m----> 1\u001b[1;33m \u001b[0mim2\u001b[0m \u001b[1;33m=\u001b[0m \u001b[0mreconstructions_z2\u001b[0m\u001b[1;33m.\u001b[0m\u001b[0mreshape\u001b[0m\u001b[1;33m(\u001b[0m\u001b[0mdataset\u001b[0m\u001b[1;33m[\u001b[0m\u001b[1;34m\"output_dim\"\u001b[0m\u001b[1;33m]\u001b[0m\u001b[1;33m,\u001b[0m \u001b[1;36m9\u001b[0m\u001b[1;33m,\u001b[0m \u001b[0mw\u001b[0m\u001b[1;33m,\u001b[0m \u001b[0mh\u001b[0m\u001b[1;33m)\u001b[0m\u001b[1;33m.\u001b[0m\u001b[0mtranspose\u001b[0m\u001b[1;33m(\u001b[0m\u001b[1;36m1\u001b[0m\u001b[1;33m,\u001b[0m \u001b[1;36m2\u001b[0m\u001b[1;33m,\u001b[0m \u001b[1;36m0\u001b[0m\u001b[1;33m,\u001b[0m \u001b[1;36m3\u001b[0m\u001b[1;33m)\u001b[0m\u001b[1;33m.\u001b[0m\u001b[0mreshape\u001b[0m\u001b[1;33m(\u001b[0m\u001b[1;36m9\u001b[0m \u001b[1;33m*\u001b[0m \u001b[0mw\u001b[0m\u001b[1;33m,\u001b[0m \u001b[0mdataset\u001b[0m\u001b[1;33m[\u001b[0m\u001b[1;34m\"output_dim\"\u001b[0m\u001b[1;33m]\u001b[0m \u001b[1;33m*\u001b[0m \u001b[0mh\u001b[0m\u001b[1;33m)\u001b[0m\u001b[1;33m\u001b[0m\u001b[0m\n\u001b[0m\u001b[0;32m      2\u001b[0m \u001b[0mplt\u001b[0m\u001b[1;33m.\u001b[0m\u001b[0mimshow\u001b[0m\u001b[1;33m(\u001b[0m\u001b[0mim2\u001b[0m\u001b[1;33m,\u001b[0m \u001b[0mcmap\u001b[0m\u001b[1;33m=\u001b[0m\u001b[0mplt\u001b[0m\u001b[1;33m.\u001b[0m\u001b[0mcm\u001b[0m\u001b[1;33m.\u001b[0m\u001b[0mgray\u001b[0m\u001b[1;33m)\u001b[0m\u001b[1;33m\u001b[0m\u001b[0m\n\u001b[0;32m      3\u001b[0m \u001b[0mplt\u001b[0m\u001b[1;33m.\u001b[0m\u001b[0mshow\u001b[0m\u001b[1;33m(\u001b[0m\u001b[1;33m)\u001b[0m\u001b[1;33m\u001b[0m\u001b[0m\n",
      "\u001b[1;31mValueError\u001b[0m: total size of new array must be unchanged"
     ]
    }
   ],
   "source": [
    "im2 = reconstructions_z2.reshape(dataset[\"output_dim\"], 9, w, h).transpose(1, 2, 0, 3).reshape(9 * w, dataset[\"output_dim\"] * h)\n",
    "plt.imshow(im2, cmap=plt.cm.gray)\n",
    "plt.show()"
   ]
  },
  {
   "cell_type": "markdown",
   "metadata": {},
   "source": [
    "The reconstructions show some interesting structure as `z1` and `z2` are varied. Pretty cool!"
   ]
  },
  {
   "cell_type": "code",
   "execution_count": 17,
   "metadata": {
    "collapsed": false
   },
   "outputs": [
    {
     "ename": "NameError",
     "evalue": "name 'reconstructions_z1' is not defined",
     "output_type": "error",
     "traceback": [
      "\u001b[1;31m---------------------------------------------------------------------------\u001b[0m",
      "\u001b[1;31mNameError\u001b[0m                                 Traceback (most recent call last)",
      "\u001b[1;32m<ipython-input-17-22e592287afc>\u001b[0m in \u001b[0;36m<module>\u001b[1;34m()\u001b[0m\n\u001b[1;32m----> 1\u001b[1;33m \u001b[0mreconstructions_z1\u001b[0m\u001b[1;33m.\u001b[0m\u001b[0mshape\u001b[0m\u001b[1;33m\u001b[0m\u001b[0m\n\u001b[0m\u001b[0;32m      2\u001b[0m \u001b[1;32mfor\u001b[0m \u001b[0mi\u001b[0m \u001b[1;32min\u001b[0m \u001b[0mrange\u001b[0m\u001b[1;33m(\u001b[0m\u001b[0mreconstructions_z1\u001b[0m\u001b[1;33m.\u001b[0m\u001b[0mshape\u001b[0m\u001b[1;33m[\u001b[0m\u001b[1;36m0\u001b[0m\u001b[1;33m]\u001b[0m\u001b[1;33m)\u001b[0m\u001b[1;33m:\u001b[0m\u001b[1;33m\u001b[0m\u001b[0m\n\u001b[0;32m      3\u001b[0m     \u001b[0mplt\u001b[0m\u001b[1;33m.\u001b[0m\u001b[0mclf\u001b[0m\u001b[1;33m(\u001b[0m\u001b[1;33m)\u001b[0m\u001b[1;33m\u001b[0m\u001b[0m\n\u001b[0;32m      4\u001b[0m     \u001b[0mplt\u001b[0m\u001b[1;33m.\u001b[0m\u001b[0mimshow\u001b[0m\u001b[1;33m(\u001b[0m\u001b[0mreconstructions_z1\u001b[0m\u001b[1;33m[\u001b[0m\u001b[0mi\u001b[0m\u001b[1;33m]\u001b[0m\u001b[1;33m.\u001b[0m\u001b[0mreshape\u001b[0m\u001b[1;33m(\u001b[0m\u001b[1;33m(\u001b[0m\u001b[1;36m64\u001b[0m\u001b[1;33m,\u001b[0m \u001b[1;36m64\u001b[0m\u001b[1;33m)\u001b[0m\u001b[1;33m)\u001b[0m\u001b[1;33m,\u001b[0m \u001b[0mcmap\u001b[0m\u001b[1;33m=\u001b[0m\u001b[1;34m\"gray\"\u001b[0m\u001b[1;33m)\u001b[0m\u001b[1;33m\u001b[0m\u001b[0m\n\u001b[0;32m      5\u001b[0m     \u001b[0mplt\u001b[0m\u001b[1;33m.\u001b[0m\u001b[0mshow\u001b[0m\u001b[1;33m(\u001b[0m\u001b[1;33m)\u001b[0m\u001b[1;33m\u001b[0m\u001b[0m\n",
      "\u001b[1;31mNameError\u001b[0m: name 'reconstructions_z1' is not defined"
     ]
    }
   ],
   "source": [
    "reconstructions_z1.shape\n",
    "for i in range(reconstructions_z1.shape[0]):\n",
    "    plt.clf()\n",
    "    plt.imshow(reconstructions_z1[i].reshape((64, 64)), cmap=\"gray\")\n",
    "    plt.show()"
   ]
  },
  {
   "cell_type": "code",
   "execution_count": null,
   "metadata": {
    "collapsed": true
   },
   "outputs": [],
   "source": []
  },
  {
   "cell_type": "code",
   "execution_count": null,
   "metadata": {
    "collapsed": true
   },
   "outputs": [],
   "source": []
  },
  {
   "cell_type": "code",
   "execution_count": null,
   "metadata": {
    "collapsed": true
   },
   "outputs": [],
   "source": []
  }
 ],
 "metadata": {
  "kernelspec": {
   "display_name": "Python 2",
   "language": "python",
   "name": "python2"
  },
  "language_info": {
   "codemirror_mode": {
    "name": "ipython",
    "version": 2
   },
   "file_extension": ".py",
   "mimetype": "text/x-python",
   "name": "python",
   "nbconvert_exporter": "python",
   "pygments_lexer": "ipython2",
   "version": "2.7.10"
  }
 },
 "nbformat": 4,
 "nbformat_minor": 0
}
