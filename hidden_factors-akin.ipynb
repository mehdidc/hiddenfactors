{
 "cells": [
  {
   "cell_type": "code",
   "execution_count": 1,
   "metadata": {
    "collapsed": false
   },
   "outputs": [
    {
     "name": "stdout",
     "output_type": "stream",
     "text": [
      "Couldn't import dot_parser, loading of dot files will not be possible.\n"
     ]
    },
    {
     "name": "stderr",
     "output_type": "stream",
     "text": [
      "Using gpu device 1: Tesla K20m\n"
     ]
    }
   ],
   "source": [
    "import os\n",
    "os.environ[\"THEANO_FLAGS\"] = \"device=gpu1\"\n",
    "from lasagne.generative.autoencoder import Autoencoder, greedy_learn_with_validation\n",
    "from lasagne.easy import BatchOptimizer, LightweightModel\n",
    "from lasagne.datasets.mnist import MNIST\n",
    "from sklearn.utils import shuffle\n",
    "from sklearn.cross_validation import train_test_split\n",
    "from lasagne import layers, updates, init, nonlinearities\n",
    "import theano.tensor as T\n",
    "from theano.sandbox import rng_mrg\n",
    "import theano\n",
    "import matplotlib.pyplot as plt\n",
    "import numpy as np\n",
    "from lasagne.layers import get_all_layers\n",
    "\n",
    "import numpy as np\n",
    "from skimage.io import imread\n",
    "from skimage.filter import threshold_otsu\n",
    "import matplotlib.pyplot as plt\n",
    "from lasagne import easy\n",
    "from skimage.transform import resize\n",
    "from lasagne.datasets.mnist import MNIST\n",
    "from lasagne.generative.capsule import Capsule\n",
    "from lasagne.easy import BatchIterator\n",
    "import glob\n",
    "import os\n",
    "\n",
    "from lasagne.easy import BatchOptimizer, LightweightModel\n",
    "from lasagne import init\n",
    "from collections import OrderedDict\n",
    "from lasagne import init, layers, updates, nonlinearities\n",
    "from lasagne.layers.helper import get_all_layers\n",
    "from lasagne.layers import helper\n",
    "import theano.tensor as T\n",
    "from theano.sandbox import rng_mrg\n",
    "from sklearn.cross_validation import train_test_split\n",
    "from lasagne.datasets.fonts import Fonts\n",
    "import theano\n",
    "from collections import OrderedDict\n",
    "import theano.tensor as T\n",
    "\n",
    "\n",
    "%matplotlib inline\n",
    "\n",
    "def binarize(X):\n",
    "    X_b = np.empty(X.shape, dtype=X.dtype)\n",
    "    for i in range(X.shape[0]):\n",
    "        X_b[i] = 1. * (X[i] <= threshold_otsu(X[i]))\n",
    "    return X_b\n",
    "\n",
    "def resize_all(X, w, h):\n",
    "    if X.shape[1] == w and X.shape[2] == h:\n",
    "        return X\n",
    "    X_b = np.empty((X.shape[0], w, h), dtype=X.dtype)\n",
    "    for i in range(X.shape[0]):\n",
    "        X_b[i] = resize(X[i], (w, h))\n",
    "    return X_b    \n",
    "\n",
    "%matplotlib inline"
   ]
  },
  {
   "cell_type": "markdown",
   "metadata": {},
   "source": [
    "# Load & pre-process data"
   ]
  },
  {
   "cell_type": "code",
   "execution_count": 2,
   "metadata": {
    "collapsed": false
   },
   "outputs": [],
   "source": [
    "data = MNIST()\n",
    "data.load()\n",
    "X = data.X\n",
    "X = X.astype(np.float32)\n",
    "y = data.y.astype(np.int32)"
   ]
  },
  {
   "cell_type": "code",
   "execution_count": 3,
   "metadata": {
    "collapsed": true
   },
   "outputs": [],
   "source": [
    "w, h = 28, 28"
   ]
  },
  {
   "cell_type": "code",
   "execution_count": 4,
   "metadata": {
    "collapsed": false
   },
   "outputs": [],
   "source": [
    "from skimage.filter import threshold_otsu\n",
    "from skimage.transform import resize\n",
    "X_b = np.zeros((X.shape[0], w, h))\n",
    "for i in range(X_b.shape[0]):\n",
    "    X_b[i] = resize(X[i].reshape((28, 28)), (w, h))\n",
    "X = X_b\n",
    "X = X <= threshold_otsu(X)\n",
    "X = X.astype(np.float32)\n",
    "X = 1 - X\n",
    "X = X.reshape((X.shape[0], w*h))"
   ]
  },
  {
   "cell_type": "code",
   "execution_count": 5,
   "metadata": {
    "collapsed": false
   },
   "outputs": [
    {
     "data": {
      "text/plain": [
       "<matplotlib.image.AxesImage at 0x7f1a25c4c910>"
      ]
     },
     "execution_count": 5,
     "metadata": {},
     "output_type": "execute_result"
    },
    {
     "data": {
      "image/png": "[encoded data removed]",
      "text/plain": [
       "<matplotlib.figure.Figure at 0x7f1a52786410>"
      ]
     },
     "metadata": {},
     "output_type": "display_data"
    }
   ],
   "source": [
    "plt.imshow(X[0].reshape((28, 28)), cmap=\"gray\")"
   ]
  },
  {
   "cell_type": "code",
   "execution_count": 6,
   "metadata": {
    "collapsed": false
   },
   "outputs": [],
   "source": [
    "X, y = shuffle(X, y)\n",
    "train, test = train_test_split(range(X.shape[0]), test_size=0.25)"
   ]
  },
  {
   "cell_type": "code",
   "execution_count": 7,
   "metadata": {
    "collapsed": false
   },
   "outputs": [],
   "source": [
    "class MyBatchOptimizer(BatchOptimizer):\n",
    "    \n",
    "    def iter_update(self, epoch, nb_batches, iter_update_batch):\n",
    "        status = super(MyBatchOptimizer, self).iter_update(epoch, nb_batches, iter_update_batch)\n",
    "        #code, = self.model.encode(X[0:100])\n",
    "        #status[\"act_mean\"] = code.mean()\n",
    "        #status[\"act_std\"] = code.std()\n",
    "        #self.learning_rate.set_value(np.array(self.learning_rate.get_value() * 0.9999, dtype=\"float32\"))\n",
    "        \n",
    "        s = np.arange(len(train))\n",
    "        np.random.shuffle(s)\n",
    "        \n",
    "        s = s[0:1000]\n",
    "        status[\"acc_train\"] = (self.model.predict(X[train][s])==y[train][s]).mean()\n",
    "        status[\"acc_valid\"] = (self.model.predict(X[test][s])==y[test][s]).mean()\n",
    "        \n",
    "        s = np.arange(len(test))\n",
    "        np.random.shuffle(s)\n",
    "        s = s[0:1000]\n",
    "        status[\"rec_train\"] = self.model.get_reconstruction_error(X[train][s])\n",
    "        status[\"rec_valid\"] = self.model.get_reconstruction_error(X[test][s])\n",
    "        return status"
   ]
  },
  {
   "cell_type": "markdown",
   "metadata": {},
   "source": [
    "## Model definition"
   ]
  },
  {
   "cell_type": "code",
   "execution_count": 9,
   "metadata": {
    "collapsed": false
   },
   "outputs": [],
   "source": [
    "from lasagne.layers import cuda_convnet, Conv2DLayer\n",
    "\n",
    "def cross_entropy(truth, pred):\n",
    "    return -(truth * T.log(pred) + (1 - truth) * T.log(1 - pred)).sum(axis=1).mean()\n",
    "\n",
    "def mse(truth, pred):\n",
    "    return (((truth - pred) ** 2).sum(axis=1)).mean()\n",
    "\n",
    "def loss_function_y(y_true, y_pred):\n",
    "    return (T.nnet.categorical_crossentropy(y_pred, y_true)).mean()\n",
    "    \n",
    "def loss_representation(model):\n",
    "    return\n",
    "    \n",
    "def build_batch_optimizer():\n",
    "    #learning_rate = theano.shared(np.array(0.01, dtype=\"float32\"))\n",
    "    learning_rate = 0.001\n",
    "    batch_optimizer = MyBatchOptimizer(\n",
    "        verbose=1,\n",
    "        max_nb_epochs=100,\n",
    "        batch_size=100,\n",
    "        optimization_procedure=(updates.rmsprop, \n",
    "                                {\"learning_rate\": 0.0001})\n",
    "        \n",
    "    )\n",
    "    \n",
    "    batch_optimizer.learning_rate = learning_rate\n",
    "    return batch_optimizer\n",
    "\n",
    "\n",
    "def corrupted_masking_noise(rng, x, corruption_level):\n",
    "    return rng.binomial(size=x.shape, n=1, p=1 - corruption_level) * x\n",
    "\n",
    "def corrupted_salt_and_pepper(rng, x, corruption_level):\n",
    "    selected = rng.binomial(size=x.shape, n=1, p=corruption_level, dtype=theano.config.floatX)\n",
    "    return x * (1 - selected) + selected * rng.binomial(size=x.shape, n=1, p=0.5, dtype=theano.config.floatX)\n",
    "\n",
    "rng = rng_mrg.MRG_RandomStreams()\n",
    " \n",
    "def corruption_function(X):\n",
    "    return corrupted_salt_and_pepper(rng, X, 0.5)\n",
    "    \n",
    "def build_model_fully(i, o, corruption=False, batch_optimizer=None):\n",
    "\n",
    "    if batch_optimizer is None:\n",
    "        bo = build_batch_optimizer()\n",
    "    else:\n",
    "        bo = batch_optimizer\n",
    "    \n",
    "    x_in = layers.InputLayer((None, i))\n",
    "    z_out = layers.DenseLayer(x_in, num_units=o,\n",
    "                              nonlinearity=nonlinearities.tanh)\n",
    "    x_to_z = LightweightModel([x_in], [z_out])\n",
    "\n",
    "    z_in = layers.InputLayer((None, o))\n",
    "    x_out = layers.DenseLayer(z_in, num_units=i,\n",
    "                              nonlinearity=nonlinearities.tanh)\n",
    "    z_to_x = LightweightModel([z_in], [x_out])\n",
    "    noise_function = corruption_function if corruption is True else None\n",
    "    aa = Autoencoder(x_to_z,\n",
    "                     z_to_x,\n",
    "                     nnet_z_to_y=z_to_y,\n",
    "                     batch_optimizer=bo,\n",
    "                     noise_function=noise_function,\n",
    "                     #loss_function_z=loss_representation,\n",
    "                     loss_function=cross_entropy_transformed)\n",
    "    aa.W = z_out.W\n",
    "    aa.W_inv = x_out.W\n",
    "    aa.batch_optimizer.layers = [z_out]\n",
    "    return aa\n",
    "\n",
    "def build_model_cnn(i, \n",
    "                    nb_filters=32,\n",
    "                    size_filters=5,\n",
    "                    nb_hidden=1000,\n",
    "                    nb_outputs=10,\n",
    "                    corruption=False, \n",
    "                    batch_optimizer=None):\n",
    "    #modèle fusion : Convnet\n",
    "    #inspired from : https://github.com/mikesj-public/convolutional_autoencoder/blob/master/mnist_conv_autoencode.ipynb\n",
    "    \n",
    "    nb_filters_encoder = nb_filters\n",
    "    nb_filters_decoder = nb_filters\n",
    "    size_filters_encoder = size_filters\n",
    "    size_filters_decoder = size_filters\n",
    "    \n",
    "    w, h = i\n",
    "    \n",
    "    x_in = layers.InputLayer((None, w*h))\n",
    "    x_in_reshaped = layers.ReshapeLayer(x_in, ([0], 1, w, h))\n",
    "\n",
    "    # conv1\n",
    "    l_conv = cuda_convnet.Conv2DCCLayer(\n",
    "        x_in_reshaped,\n",
    "        num_filters=nb_filters_encoder,\n",
    "        filter_size=(size_filters_encoder, size_filters_encoder),\n",
    "        nonlinearity=nonlinearities.rectify,\n",
    "        dimshuffle=True,\n",
    "    )\n",
    "    #code layer\n",
    "    l_x_code = layers.DenseLayer(\n",
    "        l_conv,\n",
    "        num_units=nb_hidden,\n",
    "        nonlinearity=nonlinearities.rectify,\n",
    "    )\n",
    "    \n",
    "    z_out = l_x_code\n",
    "    \n",
    "    y_out = layers.DenseLayer(\n",
    "        z_out,\n",
    "        num_units=nb_outputs,\n",
    "        nonlinearity=nonlinearities.softmax\n",
    "    )\n",
    "    \n",
    "    x_to_z = LightweightModel([x_in], [z_out])\n",
    "\n",
    "    z_in = layers.InputLayer((None, nb_hidden))\n",
    "    z_to_y = LightweightModel([l_x_code], [y_out])\n",
    "\n",
    "    # unflatten layer\n",
    "    hid = layers.DenseLayer(z_in,\n",
    "                            num_units=nb_filters_decoder * (w - size_filters_decoder + 1) * (h - size_filters_decoder + 1))\n",
    "    hid = layers.ReshapeLayer(hid,\n",
    "                              ([0], nb_filters_decoder, (w - size_filters_decoder + 1), (h - size_filters_decoder + 1)))\n",
    "\n",
    "    l_unconv = Conv2DLayer(\n",
    "        hid,\n",
    "        num_filters=1,\n",
    "        filter_size=(size_filters_decoder, size_filters_decoder),\n",
    "        nonlinearity=nonlinearities.rectify,\n",
    "        border_mode=\"full\"\n",
    "    )\n",
    "    o = layers.ReshapeLayer(l_unconv, ([0], w*h))\n",
    "    z_to_x = LightweightModel([z_in], [o])\n",
    "    \n",
    "    noise_function = corruption_function if corruption is True else None\n",
    "    if batch_optimizer is None:\n",
    "        bo = build_batch_optimizer()\n",
    "    else:\n",
    "        bo = batch_optimizer\n",
    "\n",
    "    aa = Autoencoder(nnet_x_to_z=x_to_z,\n",
    "                     nnet_z_to_x=z_to_x,\n",
    "                     nnet_z_to_y=z_to_y,\n",
    "                     batch_optimizer=bo,\n",
    "                     noise_function=noise_function,\n",
    "                     loss_function_y=loss_function_y,\n",
    "                     discriminative_importance=0.5,\n",
    "                     #loss_function_z=loss_representation,\n",
    "                     loss_function=mse)\n",
    "    #aa.W = z_out.W\n",
    "    #aa.W_inv = None\n",
    "    aa.batch_optimizer.layers = [z_out]\n",
    "    return aa\n",
    "\n",
    "def build_models(input_size):\n",
    "    models = [\n",
    "        #build_model_fully(input_size, 500, corruption=False),\n",
    "        build_model_cnn((w, h), nb_filters=32, size_filters=5, nb_hidden=500)\n",
    "        #build_model(500, 250),\n",
    "        #build_model(250, 128),\n",
    "    ]\n",
    "    return models"
   ]
  },
  {
   "cell_type": "code",
   "execution_count": 10,
   "metadata": {
    "collapsed": false
   },
   "outputs": [
    {
     "name": "stderr",
     "output_type": "stream",
     "text": [
      "/home/gridcl/mehdicherti/work/code/Lasagne/lasagne/init.py:91: UserWarning: The uniform initializer no longer uses Glorot et al.'s approach to determine the bounds, but defaults to the range (-0.01, 0.01) instead. Please use the new GlorotUniform initializer to get the old behavior. GlorotUniform is now the default for all layers.\n",
      "  warnings.warn(\"The uniform initializer no longer uses Glorot et al.'s \"\n"
     ]
    }
   ],
   "source": [
    "models = build_models(X.shape[1])\n",
    "model = models[0]"
   ]
  },
  {
   "cell_type": "code",
   "execution_count": 11,
   "metadata": {
    "collapsed": false
   },
   "outputs": [
    {
     "name": "stderr",
     "output_type": "stream",
     "text": [
      "/home/gridcl/mehdicherti/work/code/Lasagne/lasagne/layers/helper.py:69: UserWarning: get_all_layers() has been changed to return layers in topological order. The former implementation is still available as get_all_layers_old(), but will be removed before the first release of Lasagne. To ignore this warning, use `warnings.filterwarnings('ignore', '.*topo.*')`.\n",
      "  warnings.warn(\"get_all_layers() has been changed to return layers in \"\n",
      "/home/gridcl/mehdicherti/work/code/Lasagne/lasagne/misc/draw_net.py:89: UserWarning: layer.get_output_shape() is deprecated and will be removed for the first release of Lasagne. Please use layer.output_shape instead.\n",
      "  'Output shape: {0}'.format(layer.get_output_shape())\n"
     ]
    },
    {
     "data": {
      "image/svg+xml": [
       "<svg height=\"264pt\" viewBox=\"0.00 0.00 307.05 264.00\" width=\"307pt\" xmlns=\"http://www.w3.org/2000/svg\" xmlns:xlink=\"http://www.w3.org/1999/xlink\">\n",
       "<g class=\"graph\" id=\"graph0\" transform=\"scale(1 1) rotate(0) translate(4 260)\">\n",
       "<title>Network</title>\n",
       "<polygon fill=\"white\" points=\"-4,4 -4,-260 303.053,-260 303.053,4 -4,4\" stroke=\"none\"/>\n",
       "<!-- lasagne.layers.input.InputLayer object at 0x7f1a26321710 -->\n",
       "<g class=\"node\" id=\"node1\"><title>lasagne.layers.input.InputLayer object at 0x7f1a26321710</title>\n",
       "<polygon fill=\"#a2cece\" points=\"35.7826,-219.5 35.7826,-255.5 263.271,-255.5 263.271,-219.5 35.7826,-219.5\" stroke=\"black\"/>\n",
       "<text font-family=\"Times,serif\" font-size=\"14.00\" text-anchor=\"middle\" x=\"149.527\" y=\"-233.3\">InputLayerOutput shape: (None, 784)</text>\n",
       "</g>\n",
       "<!-- lasagne.layers.shape.ReshapeLayer object at 0x7f1a2667b290 -->\n",
       "<g class=\"node\" id=\"node2\"><title>lasagne.layers.shape.ReshapeLayer object at 0x7f1a2667b290</title>\n",
       "<polygon fill=\"#ff8351\" points=\"12.8457,-146.5 12.8457,-182.5 286.208,-182.5 286.208,-146.5 12.8457,-146.5\" stroke=\"black\"/>\n",
       "<text font-family=\"Times,serif\" font-size=\"14.00\" text-anchor=\"middle\" x=\"149.527\" y=\"-160.3\">ReshapeLayerOutput shape: (None, 1, 28, 28)</text>\n",
       "</g>\n",
       "<!-- lasagne.layers.input.InputLayer object at 0x7f1a26321710&#45;&gt;lasagne.layers.shape.ReshapeLayer object at 0x7f1a2667b290 -->\n",
       "<g class=\"edge\" id=\"edge1\"><title>lasagne.layers.input.InputLayer object at 0x7f1a26321710-&gt;lasagne.layers.shape.ReshapeLayer object at 0x7f1a2667b290</title>\n",
       "<path d=\"M149.527,-219.313C149.527,-211.289 149.527,-201.547 149.527,-192.569\" fill=\"none\" stroke=\"black\"/>\n",
       "<polygon fill=\"black\" points=\"153.027,-192.529 149.527,-182.529 146.027,-192.529 153.027,-192.529\" stroke=\"black\"/>\n",
       "</g>\n",
       "<!-- lasagne.layers.cuda_convnet.Conv2DCCLayer object at 0x7f1a2667b2d0 -->\n",
       "<g class=\"node\" id=\"node4\"><title>lasagne.layers.cuda_convnet.Conv2DCCLayer object at 0x7f1a2667b2d0</title>\n",
       "<polygon fill=\"#7c9abb\" points=\"-2.84217e-14,-73.5 -2.84217e-14,-109.5 299.053,-109.5 299.053,-73.5 -2.84217e-14,-73.5\" stroke=\"black\"/>\n",
       "<text font-family=\"Times,serif\" font-size=\"14.00\" text-anchor=\"middle\" x=\"149.527\" y=\"-87.3\">Conv2DCCLayerOutput shape: (None, 32, 24, 24)</text>\n",
       "</g>\n",
       "<!-- lasagne.layers.shape.ReshapeLayer object at 0x7f1a2667b290&#45;&gt;lasagne.layers.cuda_convnet.Conv2DCCLayer object at 0x7f1a2667b2d0 -->\n",
       "<g class=\"edge\" id=\"edge2\"><title>lasagne.layers.shape.ReshapeLayer object at 0x7f1a2667b290-&gt;lasagne.layers.cuda_convnet.Conv2DCCLayer object at 0x7f1a2667b2d0</title>\n",
       "<path d=\"M149.527,-146.313C149.527,-138.289 149.527,-128.547 149.527,-119.569\" fill=\"none\" stroke=\"black\"/>\n",
       "<polygon fill=\"black\" points=\"153.027,-119.529 149.527,-109.529 146.027,-119.529 153.027,-119.529\" stroke=\"black\"/>\n",
       "</g>\n",
       "<!-- lasagne.layers.dense.DenseLayer object at 0x7f1a2667b310 -->\n",
       "<g class=\"node\" id=\"node3\"><title>lasagne.layers.dense.DenseLayer object at 0x7f1a2667b310</title>\n",
       "<polygon fill=\"#6ccf8d\" points=\"33.068,-0.5 33.068,-36.5 265.985,-36.5 265.985,-0.5 33.068,-0.5\" stroke=\"black\"/>\n",
       "<text font-family=\"Times,serif\" font-size=\"14.00\" text-anchor=\"middle\" x=\"149.527\" y=\"-14.3\">DenseLayerOutput shape: (None, 500)</text>\n",
       "</g>\n",
       "<!-- lasagne.layers.cuda_convnet.Conv2DCCLayer object at 0x7f1a2667b2d0&#45;&gt;lasagne.layers.dense.DenseLayer object at 0x7f1a2667b310 -->\n",
       "<g class=\"edge\" id=\"edge3\"><title>lasagne.layers.cuda_convnet.Conv2DCCLayer object at 0x7f1a2667b2d0-&gt;lasagne.layers.dense.DenseLayer object at 0x7f1a2667b310</title>\n",
       "<path d=\"M149.527,-73.3129C149.527,-65.2895 149.527,-55.5475 149.527,-46.5691\" fill=\"none\" stroke=\"black\"/>\n",
       "<polygon fill=\"black\" points=\"153.027,-46.5288 149.527,-36.5288 146.027,-46.5289 153.027,-46.5288\" stroke=\"black\"/>\n",
       "</g>\n",
       "</g>\n",
       "</svg>"
      ],
      "text/plain": [
       "<IPython.core.display.SVG object>"
      ]
     },
     "execution_count": 11,
     "metadata": {},
     "output_type": "execute_result"
    }
   ],
   "source": [
    "from lasagne.misc.draw_net import draw_to_file\n",
    "draw_to_file(get_all_layers(model.nnet_x_to_z.output_layers[0]), \"x_to_z.svg\")\n",
    "draw_to_file(get_all_layers(model.nnet_z_to_x.output_layers[0]), \"z_to_x.svg\")\n",
    "draw_to_file(get_all_layers(model.nnet_z_to_y.output_layers[0]), \"x_to_y.svg\")\n",
    "\n",
    "from IPython.display import SVG\n",
    "SVG(\"x_to_z.svg\")"
   ]
  },
  {
   "cell_type": "code",
   "execution_count": 12,
   "metadata": {
    "collapsed": false
   },
   "outputs": [
    {
     "data": {
      "image/svg+xml": [
       "<svg height=\"337pt\" viewBox=\"0.00 0.00 307.05 337.00\" width=\"307pt\" xmlns=\"http://www.w3.org/2000/svg\" xmlns:xlink=\"http://www.w3.org/1999/xlink\">\n",
       "<g class=\"graph\" id=\"graph0\" transform=\"scale(1 1) rotate(0) translate(4 333)\">\n",
       "<title>Network</title>\n",
       "<polygon fill=\"white\" points=\"-4,4 -4,-333 303.053,-333 303.053,4 -4,4\" stroke=\"none\"/>\n",
       "<!-- lasagne.layers.dense.DenseLayer object at 0x7f1a26695ad0 -->\n",
       "<g class=\"node\" id=\"node1\"><title>lasagne.layers.dense.DenseLayer object at 0x7f1a26695ad0</title>\n",
       "<polygon fill=\"#6ccf8d\" points=\"36.568,-0.5 36.568,-36.5 262.485,-36.5 262.485,-0.5 36.568,-0.5\" stroke=\"black\"/>\n",
       "<text font-family=\"Times,serif\" font-size=\"14.00\" text-anchor=\"middle\" x=\"149.527\" y=\"-14.3\">DenseLayerOutput shape: (None, 10)</text>\n",
       "</g>\n",
       "<!-- lasagne.layers.input.InputLayer object at 0x7f1a26321710 -->\n",
       "<g class=\"node\" id=\"node2\"><title>lasagne.layers.input.InputLayer object at 0x7f1a26321710</title>\n",
       "<polygon fill=\"#a2cece\" points=\"35.7826,-292.5 35.7826,-328.5 263.271,-328.5 263.271,-292.5 35.7826,-292.5\" stroke=\"black\"/>\n",
       "<text font-family=\"Times,serif\" font-size=\"14.00\" text-anchor=\"middle\" x=\"149.527\" y=\"-306.3\">InputLayerOutput shape: (None, 784)</text>\n",
       "</g>\n",
       "<!-- lasagne.layers.shape.ReshapeLayer object at 0x7f1a2667b290 -->\n",
       "<g class=\"node\" id=\"node3\"><title>lasagne.layers.shape.ReshapeLayer object at 0x7f1a2667b290</title>\n",
       "<polygon fill=\"#ff8351\" points=\"12.8457,-219.5 12.8457,-255.5 286.208,-255.5 286.208,-219.5 12.8457,-219.5\" stroke=\"black\"/>\n",
       "<text font-family=\"Times,serif\" font-size=\"14.00\" text-anchor=\"middle\" x=\"149.527\" y=\"-233.3\">ReshapeLayerOutput shape: (None, 1, 28, 28)</text>\n",
       "</g>\n",
       "<!-- lasagne.layers.input.InputLayer object at 0x7f1a26321710&#45;&gt;lasagne.layers.shape.ReshapeLayer object at 0x7f1a2667b290 -->\n",
       "<g class=\"edge\" id=\"edge1\"><title>lasagne.layers.input.InputLayer object at 0x7f1a26321710-&gt;lasagne.layers.shape.ReshapeLayer object at 0x7f1a2667b290</title>\n",
       "<path d=\"M149.527,-292.313C149.527,-284.289 149.527,-274.547 149.527,-265.569\" fill=\"none\" stroke=\"black\"/>\n",
       "<polygon fill=\"black\" points=\"153.027,-265.529 149.527,-255.529 146.027,-265.529 153.027,-265.529\" stroke=\"black\"/>\n",
       "</g>\n",
       "<!-- lasagne.layers.cuda_convnet.Conv2DCCLayer object at 0x7f1a2667b2d0 -->\n",
       "<g class=\"node\" id=\"node5\"><title>lasagne.layers.cuda_convnet.Conv2DCCLayer object at 0x7f1a2667b2d0</title>\n",
       "<polygon fill=\"#7c9abb\" points=\"-2.84217e-14,-146.5 -2.84217e-14,-182.5 299.053,-182.5 299.053,-146.5 -2.84217e-14,-146.5\" stroke=\"black\"/>\n",
       "<text font-family=\"Times,serif\" font-size=\"14.00\" text-anchor=\"middle\" x=\"149.527\" y=\"-160.3\">Conv2DCCLayerOutput shape: (None, 32, 24, 24)</text>\n",
       "</g>\n",
       "<!-- lasagne.layers.shape.ReshapeLayer object at 0x7f1a2667b290&#45;&gt;lasagne.layers.cuda_convnet.Conv2DCCLayer object at 0x7f1a2667b2d0 -->\n",
       "<g class=\"edge\" id=\"edge2\"><title>lasagne.layers.shape.ReshapeLayer object at 0x7f1a2667b290-&gt;lasagne.layers.cuda_convnet.Conv2DCCLayer object at 0x7f1a2667b2d0</title>\n",
       "<path d=\"M149.527,-219.313C149.527,-211.289 149.527,-201.547 149.527,-192.569\" fill=\"none\" stroke=\"black\"/>\n",
       "<polygon fill=\"black\" points=\"153.027,-192.529 149.527,-182.529 146.027,-192.529 153.027,-192.529\" stroke=\"black\"/>\n",
       "</g>\n",
       "<!-- lasagne.layers.dense.DenseLayer object at 0x7f1a2667b310 -->\n",
       "<g class=\"node\" id=\"node4\"><title>lasagne.layers.dense.DenseLayer object at 0x7f1a2667b310</title>\n",
       "<polygon fill=\"#6ccf8d\" points=\"33.068,-73.5 33.068,-109.5 265.985,-109.5 265.985,-73.5 33.068,-73.5\" stroke=\"black\"/>\n",
       "<text font-family=\"Times,serif\" font-size=\"14.00\" text-anchor=\"middle\" x=\"149.527\" y=\"-87.3\">DenseLayerOutput shape: (None, 500)</text>\n",
       "</g>\n",
       "<!-- lasagne.layers.dense.DenseLayer object at 0x7f1a2667b310&#45;&gt;lasagne.layers.dense.DenseLayer object at 0x7f1a26695ad0 -->\n",
       "<g class=\"edge\" id=\"edge4\"><title>lasagne.layers.dense.DenseLayer object at 0x7f1a2667b310-&gt;lasagne.layers.dense.DenseLayer object at 0x7f1a26695ad0</title>\n",
       "<path d=\"M149.527,-73.3129C149.527,-65.2895 149.527,-55.5475 149.527,-46.5691\" fill=\"none\" stroke=\"black\"/>\n",
       "<polygon fill=\"black\" points=\"153.027,-46.5288 149.527,-36.5288 146.027,-46.5289 153.027,-46.5288\" stroke=\"black\"/>\n",
       "</g>\n",
       "<!-- lasagne.layers.cuda_convnet.Conv2DCCLayer object at 0x7f1a2667b2d0&#45;&gt;lasagne.layers.dense.DenseLayer object at 0x7f1a2667b310 -->\n",
       "<g class=\"edge\" id=\"edge3\"><title>lasagne.layers.cuda_convnet.Conv2DCCLayer object at 0x7f1a2667b2d0-&gt;lasagne.layers.dense.DenseLayer object at 0x7f1a2667b310</title>\n",
       "<path d=\"M149.527,-146.313C149.527,-138.289 149.527,-128.547 149.527,-119.569\" fill=\"none\" stroke=\"black\"/>\n",
       "<polygon fill=\"black\" points=\"153.027,-119.529 149.527,-109.529 146.027,-119.529 153.027,-119.529\" stroke=\"black\"/>\n",
       "</g>\n",
       "</g>\n",
       "</svg>"
      ],
      "text/plain": [
       "<IPython.core.display.SVG object>"
      ]
     },
     "execution_count": 12,
     "metadata": {},
     "output_type": "execute_result"
    }
   ],
   "source": [
    "SVG(\"x_to_y.svg\")"
   ]
  },
  {
   "cell_type": "code",
   "execution_count": 13,
   "metadata": {
    "collapsed": false
   },
   "outputs": [
    {
     "data": {
      "image/svg+xml": [
       "<svg height=\"337pt\" viewBox=\"0.00 0.00 288.36 337.00\" width=\"288pt\" xmlns=\"http://www.w3.org/2000/svg\" xmlns:xlink=\"http://www.w3.org/1999/xlink\">\n",
       "<g class=\"graph\" id=\"graph0\" transform=\"scale(1 1) rotate(0) translate(4 333)\">\n",
       "<title>Network</title>\n",
       "<polygon fill=\"white\" points=\"-4,4 -4,-333 284.362,-333 284.362,4 -4,4\" stroke=\"none\"/>\n",
       "<!-- lasagne.layers.shape.ReshapeLayer object at 0x7f1a2666e510 -->\n",
       "<g class=\"node\" id=\"node1\"><title>lasagne.layers.shape.ReshapeLayer object at 0x7f1a2666e510</title>\n",
       "<polygon fill=\"#ff8351\" points=\"0,-146.5 0,-182.5 280.362,-182.5 280.362,-146.5 0,-146.5\" stroke=\"black\"/>\n",
       "<text font-family=\"Times,serif\" font-size=\"14.00\" text-anchor=\"middle\" x=\"140.181\" y=\"-160.3\">ReshapeLayerOutput shape: (None, 32, 24, 24)</text>\n",
       "</g>\n",
       "<!-- lasagne.layers.conv.Conv2DLayer object at 0x7f1a2666e650 -->\n",
       "<g class=\"node\" id=\"node5\"><title>lasagne.layers.conv.Conv2DLayer object at 0x7f1a2666e650</title>\n",
       "<polygon fill=\"#7c9abb\" points=\"3.4909,-73.5 3.4909,-109.5 276.871,-109.5 276.871,-73.5 3.4909,-73.5\" stroke=\"black\"/>\n",
       "<text font-family=\"Times,serif\" font-size=\"14.00\" text-anchor=\"middle\" x=\"140.181\" y=\"-87.3\">Conv2DLayerOutput shape: (None, 1, 28, 28)</text>\n",
       "</g>\n",
       "<!-- lasagne.layers.shape.ReshapeLayer object at 0x7f1a2666e510&#45;&gt;lasagne.layers.conv.Conv2DLayer object at 0x7f1a2666e650 -->\n",
       "<g class=\"edge\" id=\"edge3\"><title>lasagne.layers.shape.ReshapeLayer object at 0x7f1a2666e510-&gt;lasagne.layers.conv.Conv2DLayer object at 0x7f1a2666e650</title>\n",
       "<path d=\"M140.181,-146.313C140.181,-138.289 140.181,-128.547 140.181,-119.569\" fill=\"none\" stroke=\"black\"/>\n",
       "<polygon fill=\"black\" points=\"143.681,-119.529 140.181,-109.529 136.681,-119.529 143.681,-119.529\" stroke=\"black\"/>\n",
       "</g>\n",
       "<!-- lasagne.layers.input.InputLayer object at 0x7f1a2666e450 -->\n",
       "<g class=\"node\" id=\"node2\"><title>lasagne.layers.input.InputLayer object at 0x7f1a2666e450</title>\n",
       "<polygon fill=\"#a2cece\" points=\"26.4369,-292.5 26.4369,-328.5 253.925,-328.5 253.925,-292.5 26.4369,-292.5\" stroke=\"black\"/>\n",
       "<text font-family=\"Times,serif\" font-size=\"14.00\" text-anchor=\"middle\" x=\"140.181\" y=\"-306.3\">InputLayerOutput shape: (None, 500)</text>\n",
       "</g>\n",
       "<!-- lasagne.layers.dense.DenseLayer object at 0x7f1a2666e4d0 -->\n",
       "<g class=\"node\" id=\"node4\"><title>lasagne.layers.dense.DenseLayer object at 0x7f1a2666e4d0</title>\n",
       "<polygon fill=\"#6ccf8d\" points=\"16.7223,-219.5 16.7223,-255.5 263.64,-255.5 263.64,-219.5 16.7223,-219.5\" stroke=\"black\"/>\n",
       "<text font-family=\"Times,serif\" font-size=\"14.00\" text-anchor=\"middle\" x=\"140.181\" y=\"-233.3\">DenseLayerOutput shape: (None, 18432)</text>\n",
       "</g>\n",
       "<!-- lasagne.layers.input.InputLayer object at 0x7f1a2666e450&#45;&gt;lasagne.layers.dense.DenseLayer object at 0x7f1a2666e4d0 -->\n",
       "<g class=\"edge\" id=\"edge1\"><title>lasagne.layers.input.InputLayer object at 0x7f1a2666e450-&gt;lasagne.layers.dense.DenseLayer object at 0x7f1a2666e4d0</title>\n",
       "<path d=\"M140.181,-292.313C140.181,-284.289 140.181,-274.547 140.181,-265.569\" fill=\"none\" stroke=\"black\"/>\n",
       "<polygon fill=\"black\" points=\"143.681,-265.529 140.181,-255.529 136.681,-265.529 143.681,-265.529\" stroke=\"black\"/>\n",
       "</g>\n",
       "<!-- lasagne.layers.shape.ReshapeLayer object at 0x7f1a2666e690 -->\n",
       "<g class=\"node\" id=\"node3\"><title>lasagne.layers.shape.ReshapeLayer object at 0x7f1a2666e690</title>\n",
       "<polygon fill=\"#ff8351\" points=\"17.5,-0.5 17.5,-36.5 262.862,-36.5 262.862,-0.5 17.5,-0.5\" stroke=\"black\"/>\n",
       "<text font-family=\"Times,serif\" font-size=\"14.00\" text-anchor=\"middle\" x=\"140.181\" y=\"-14.3\">ReshapeLayerOutput shape: (None, 784)</text>\n",
       "</g>\n",
       "<!-- lasagne.layers.dense.DenseLayer object at 0x7f1a2666e4d0&#45;&gt;lasagne.layers.shape.ReshapeLayer object at 0x7f1a2666e510 -->\n",
       "<g class=\"edge\" id=\"edge2\"><title>lasagne.layers.dense.DenseLayer object at 0x7f1a2666e4d0-&gt;lasagne.layers.shape.ReshapeLayer object at 0x7f1a2666e510</title>\n",
       "<path d=\"M140.181,-219.313C140.181,-211.289 140.181,-201.547 140.181,-192.569\" fill=\"none\" stroke=\"black\"/>\n",
       "<polygon fill=\"black\" points=\"143.681,-192.529 140.181,-182.529 136.681,-192.529 143.681,-192.529\" stroke=\"black\"/>\n",
       "</g>\n",
       "<!-- lasagne.layers.conv.Conv2DLayer object at 0x7f1a2666e650&#45;&gt;lasagne.layers.shape.ReshapeLayer object at 0x7f1a2666e690 -->\n",
       "<g class=\"edge\" id=\"edge4\"><title>lasagne.layers.conv.Conv2DLayer object at 0x7f1a2666e650-&gt;lasagne.layers.shape.ReshapeLayer object at 0x7f1a2666e690</title>\n",
       "<path d=\"M140.181,-73.3129C140.181,-65.2895 140.181,-55.5475 140.181,-46.5691\" fill=\"none\" stroke=\"black\"/>\n",
       "<polygon fill=\"black\" points=\"143.681,-46.5288 140.181,-36.5288 136.681,-46.5289 143.681,-46.5288\" stroke=\"black\"/>\n",
       "</g>\n",
       "</g>\n",
       "</svg>"
      ],
      "text/plain": [
       "<IPython.core.display.SVG object>"
      ]
     },
     "execution_count": 13,
     "metadata": {},
     "output_type": "execute_result"
    }
   ],
   "source": [
    "SVG(\"z_to_x.svg\")"
   ]
  },
  {
   "cell_type": "markdown",
   "metadata": {},
   "source": [
    "## Training "
   ]
  },
  {
   "cell_type": "code",
   "execution_count": 14,
   "metadata": {
    "collapsed": false,
    "scrolled": true
   },
   "outputs": [
    {
     "name": "stderr",
     "output_type": "stream",
     "text": [
      "/home/gridcl/mehdicherti/work/code/Lasagne/lasagne/easy.py:857: UserWarning: layer.get_output(...) is deprecated and will be removed for the first release of Lasagne. Please use lasagne.layers.get_output(layer, ...) instead.\n",
      "  for output_layer in self.output_layers]\n"
     ]
    },
    {
     "ename": "IndexError",
     "evalue": "index 20524 is out of bounds for axis 0 with size 17500",
     "output_type": "error",
     "traceback": [
      "\u001b[1;31m---------------------------------------------------------------------------\u001b[0m",
      "\u001b[1;31mIndexError\u001b[0m                                Traceback (most recent call last)",
      "\u001b[1;32m<ipython-input-14-31f441cc920d>\u001b[0m in \u001b[0;36m<module>\u001b[1;34m()\u001b[0m\n\u001b[1;32m----> 1\u001b[1;33m \u001b[0mmodel\u001b[0m\u001b[1;33m.\u001b[0m\u001b[0mfit\u001b[0m\u001b[1;33m(\u001b[0m\u001b[0mX\u001b[0m\u001b[1;33m=\u001b[0m\u001b[0mX\u001b[0m\u001b[1;33m[\u001b[0m\u001b[0mtrain\u001b[0m\u001b[1;33m]\u001b[0m\u001b[1;33m,\u001b[0m \u001b[0my\u001b[0m\u001b[1;33m=\u001b[0m\u001b[0my\u001b[0m\u001b[1;33m[\u001b[0m\u001b[0mtrain\u001b[0m\u001b[1;33m]\u001b[0m\u001b[1;33m)\u001b[0m\u001b[1;33m\u001b[0m\u001b[0m\n\u001b[0m",
      "\u001b[1;32m/home/gridcl/mehdicherti/work/code/Lasagne/lasagne/generative/autoencoder.pyc\u001b[0m in \u001b[0;36mfit\u001b[1;34m(self, X, y)\u001b[0m\n\u001b[0;32m    168\u001b[0m                 )\n\u001b[0;32m    169\u001b[0m                 \u001b[1;32mdef\u001b[0m \u001b[0miter_update_batch\u001b[0m\u001b[1;33m(\u001b[0m\u001b[0mbatch_index\u001b[0m\u001b[1;33m)\u001b[0m\u001b[1;33m:\u001b[0m\u001b[1;33m\u001b[0m\u001b[0m\n\u001b[1;32m--> 170\u001b[1;33m                     sl = slice(batch_index * self.batch_optimizer.batch_size,\n\u001b[0m\u001b[0;32m    171\u001b[0m                               (batch_index+1) * self.batch_optimizer.batch_size)\n\u001b[0;32m    172\u001b[0m                     \u001b[1;32mreturn\u001b[0m \u001b[0miter_update\u001b[0m\u001b[1;33m(\u001b[0m\u001b[0mX\u001b[0m\u001b[1;33m[\u001b[0m\u001b[0msl\u001b[0m\u001b[1;33m]\u001b[0m\u001b[1;33m)\u001b[0m\u001b[1;33m\u001b[0m\u001b[0m\n",
      "\u001b[1;32m/home/gridcl/mehdicherti/work/code/Lasagne/lasagne/easy.pyc\u001b[0m in \u001b[0;36moptimize\u001b[1;34m(self, nb_batches, iter_update_batch)\u001b[0m\n\u001b[0;32m    841\u001b[0m                   \u001b[1;32mlambda\u001b[0m \u001b[0mupdate_status\u001b[0m\u001b[1;33m:\u001b[0m \u001b[0mself\u001b[0m\u001b[1;33m.\u001b[0m\u001b[0mquitter\u001b[0m\u001b[1;33m(\u001b[0m\u001b[0mupdate_status\u001b[0m\u001b[1;33m)\u001b[0m\u001b[1;33m,\u001b[0m\u001b[1;33m\u001b[0m\u001b[0m\n\u001b[0;32m    842\u001b[0m                   \u001b[1;32mlambda\u001b[0m \u001b[0mupdate_status\u001b[0m\u001b[1;33m:\u001b[0m \u001b[0mself\u001b[0m\u001b[1;33m.\u001b[0m\u001b[0mmonitor\u001b[0m\u001b[1;33m(\u001b[0m\u001b[0mupdate_status\u001b[0m\u001b[1;33m)\u001b[0m\u001b[1;33m,\u001b[0m\u001b[1;33m\u001b[0m\u001b[0m\n\u001b[1;32m--> 843\u001b[1;33m                   lambda monitor_output: self.observer(monitor_output))\n\u001b[0m\u001b[0;32m    844\u001b[0m \u001b[1;33m\u001b[0m\u001b[0m\n\u001b[0;32m    845\u001b[0m \u001b[1;33m\u001b[0m\u001b[0m\n",
      "\u001b[1;32m/home/gridcl/mehdicherti/work/code/Lasagne/lasagne/easy.pyc\u001b[0m in \u001b[0;36mmain_loop\u001b[1;34m(max_nb_epochs, iter_update, quitter, monitor, observer)\u001b[0m\n\u001b[0;32m    151\u001b[0m \u001b[1;32mdef\u001b[0m \u001b[0mmain_loop\u001b[0m\u001b[1;33m(\u001b[0m\u001b[0mmax_nb_epochs\u001b[0m\u001b[1;33m,\u001b[0m \u001b[0miter_update\u001b[0m\u001b[1;33m,\u001b[0m \u001b[0mquitter\u001b[0m\u001b[1;33m,\u001b[0m \u001b[0mmonitor\u001b[0m\u001b[1;33m,\u001b[0m \u001b[0mobserver\u001b[0m\u001b[1;33m)\u001b[0m\u001b[1;33m:\u001b[0m\u001b[1;33m\u001b[0m\u001b[0m\n\u001b[0;32m    152\u001b[0m     \u001b[1;32mfor\u001b[0m \u001b[0mi\u001b[0m \u001b[1;32min\u001b[0m \u001b[0mxrange\u001b[0m\u001b[1;33m(\u001b[0m\u001b[0mmax_nb_epochs\u001b[0m\u001b[1;33m)\u001b[0m\u001b[1;33m:\u001b[0m\u001b[1;33m\u001b[0m\u001b[0m\n\u001b[1;32m--> 153\u001b[1;33m         \u001b[0mupdate_status\u001b[0m \u001b[1;33m=\u001b[0m \u001b[0miter_update\u001b[0m\u001b[1;33m(\u001b[0m\u001b[0mi\u001b[0m\u001b[1;33m)\u001b[0m\u001b[1;33m\u001b[0m\u001b[0m\n\u001b[0m\u001b[0;32m    154\u001b[0m         \u001b[0mmonitor_output\u001b[0m \u001b[1;33m=\u001b[0m \u001b[0mmonitor\u001b[0m\u001b[1;33m(\u001b[0m\u001b[0mupdate_status\u001b[0m\u001b[1;33m)\u001b[0m\u001b[1;33m\u001b[0m\u001b[0m\n\u001b[0;32m    155\u001b[0m         \u001b[0mobserver\u001b[0m\u001b[1;33m(\u001b[0m\u001b[0mmonitor_output\u001b[0m\u001b[1;33m)\u001b[0m\u001b[1;33m\u001b[0m\u001b[0m\n",
      "\u001b[1;32m/home/gridcl/mehdicherti/work/code/Lasagne/lasagne/easy.pyc\u001b[0m in \u001b[0;36m<lambda>\u001b[1;34m(epoch)\u001b[0m\n\u001b[0;32m    838\u001b[0m         main_loop(self.max_nb_epochs,\n\u001b[0;32m    839\u001b[0m                   lambda epoch: self.iter_update(\n\u001b[1;32m--> 840\u001b[1;33m                       epoch, nb_batches, iter_update_batch),\n\u001b[0m\u001b[0;32m    841\u001b[0m                   \u001b[1;32mlambda\u001b[0m \u001b[0mupdate_status\u001b[0m\u001b[1;33m:\u001b[0m \u001b[0mself\u001b[0m\u001b[1;33m.\u001b[0m\u001b[0mquitter\u001b[0m\u001b[1;33m(\u001b[0m\u001b[0mupdate_status\u001b[0m\u001b[1;33m)\u001b[0m\u001b[1;33m,\u001b[0m\u001b[1;33m\u001b[0m\u001b[0m\n\u001b[0;32m    842\u001b[0m                   \u001b[1;32mlambda\u001b[0m \u001b[0mupdate_status\u001b[0m\u001b[1;33m:\u001b[0m \u001b[0mself\u001b[0m\u001b[1;33m.\u001b[0m\u001b[0mmonitor\u001b[0m\u001b[1;33m(\u001b[0m\u001b[0mupdate_status\u001b[0m\u001b[1;33m)\u001b[0m\u001b[1;33m,\u001b[0m\u001b[1;33m\u001b[0m\u001b[0m\n",
      "\u001b[1;32m<ipython-input-7-5a1f4e75a1c4>\u001b[0m in \u001b[0;36miter_update\u001b[1;34m(self, epoch, nb_batches, iter_update_batch)\u001b[0m\n\u001b[0;32m     13\u001b[0m         \u001b[0ms\u001b[0m \u001b[1;33m=\u001b[0m \u001b[0ms\u001b[0m\u001b[1;33m[\u001b[0m\u001b[1;36m0\u001b[0m\u001b[1;33m:\u001b[0m\u001b[1;36m1000\u001b[0m\u001b[1;33m]\u001b[0m\u001b[1;33m\u001b[0m\u001b[0m\n\u001b[0;32m     14\u001b[0m         \u001b[0mstatus\u001b[0m\u001b[1;33m[\u001b[0m\u001b[1;34m\"acc_train\"\u001b[0m\u001b[1;33m]\u001b[0m \u001b[1;33m=\u001b[0m \u001b[1;33m(\u001b[0m\u001b[0mself\u001b[0m\u001b[1;33m.\u001b[0m\u001b[0mmodel\u001b[0m\u001b[1;33m.\u001b[0m\u001b[0mpredict\u001b[0m\u001b[1;33m(\u001b[0m\u001b[0mX\u001b[0m\u001b[1;33m[\u001b[0m\u001b[0mtrain\u001b[0m\u001b[1;33m]\u001b[0m\u001b[1;33m[\u001b[0m\u001b[0ms\u001b[0m\u001b[1;33m]\u001b[0m\u001b[1;33m)\u001b[0m\u001b[1;33m==\u001b[0m\u001b[0my\u001b[0m\u001b[1;33m[\u001b[0m\u001b[0mtrain\u001b[0m\u001b[1;33m]\u001b[0m\u001b[1;33m[\u001b[0m\u001b[0ms\u001b[0m\u001b[1;33m]\u001b[0m\u001b[1;33m)\u001b[0m\u001b[1;33m.\u001b[0m\u001b[0mmean\u001b[0m\u001b[1;33m(\u001b[0m\u001b[1;33m)\u001b[0m\u001b[1;33m\u001b[0m\u001b[0m\n\u001b[1;32m---> 15\u001b[1;33m         \u001b[0mstatus\u001b[0m\u001b[1;33m[\u001b[0m\u001b[1;34m\"acc_valid\"\u001b[0m\u001b[1;33m]\u001b[0m \u001b[1;33m=\u001b[0m \u001b[1;33m(\u001b[0m\u001b[0mself\u001b[0m\u001b[1;33m.\u001b[0m\u001b[0mmodel\u001b[0m\u001b[1;33m.\u001b[0m\u001b[0mpredict\u001b[0m\u001b[1;33m(\u001b[0m\u001b[0mX\u001b[0m\u001b[1;33m[\u001b[0m\u001b[0mtest\u001b[0m\u001b[1;33m]\u001b[0m\u001b[1;33m[\u001b[0m\u001b[0ms\u001b[0m\u001b[1;33m]\u001b[0m\u001b[1;33m)\u001b[0m\u001b[1;33m==\u001b[0m\u001b[0my\u001b[0m\u001b[1;33m[\u001b[0m\u001b[0mtest\u001b[0m\u001b[1;33m]\u001b[0m\u001b[1;33m[\u001b[0m\u001b[0ms\u001b[0m\u001b[1;33m]\u001b[0m\u001b[1;33m)\u001b[0m\u001b[1;33m.\u001b[0m\u001b[0mmean\u001b[0m\u001b[1;33m(\u001b[0m\u001b[1;33m)\u001b[0m\u001b[1;33m\u001b[0m\u001b[0m\n\u001b[0m\u001b[0;32m     16\u001b[0m \u001b[1;33m\u001b[0m\u001b[0m\n\u001b[0;32m     17\u001b[0m         \u001b[0ms\u001b[0m \u001b[1;33m=\u001b[0m \u001b[0mnp\u001b[0m\u001b[1;33m.\u001b[0m\u001b[0marange\u001b[0m\u001b[1;33m(\u001b[0m\u001b[0mlen\u001b[0m\u001b[1;33m(\u001b[0m\u001b[0mtest\u001b[0m\u001b[1;33m)\u001b[0m\u001b[1;33m)\u001b[0m\u001b[1;33m\u001b[0m\u001b[0m\n",
      "\u001b[1;31mIndexError\u001b[0m: index 20524 is out of bounds for axis 0 with size 17500"
     ]
    }
   ],
   "source": [
    "model.fit(X=X[train], y=y[train])"
   ]
  },
  {
   "cell_type": "code",
   "execution_count": null,
   "metadata": {
    "collapsed": false
   },
   "outputs": [],
   "source": [
    "!nvidia-smi"
   ]
  },
  {
   "cell_type": "code",
   "execution_count": null,
   "metadata": {
    "collapsed": false,
    "scrolled": false
   },
   "outputs": [],
   "source": [
    "X_test = X[test]\n",
    "r = np.arange(X_test.shape[0])\n",
    "np.random.shuffle(r)\n",
    "r = r[0:10]\n",
    "\n",
    "X_hat = models[0].recover_function(X_test)\n",
    "imshape = ((X_test.shape[0], w, h))\n",
    "\n",
    "X_hat = X_hat.reshape(imshape)\n",
    "X_ = X_test.reshape(imshape)\n",
    "k = 0\n",
    "for i in r:\n",
    "    plt.subplot(len(r), 2, k + 1)\n",
    "    plt.axis('off')\n",
    "    plt.imshow(X_[i], cmap='gray')\n",
    "    plt.subplot(len(r), 2, k + 2)\n",
    "    plt.imshow(X_hat[i], cmap='gray')\n",
    "    plt.axis('off')\n",
    "    k += 2"
   ]
  },
  {
   "cell_type": "code",
   "execution_count": null,
   "metadata": {
    "collapsed": false
   },
   "outputs": [],
   "source": [
    "from lasagne.misc.plot_weights import grid_plot\n",
    "layers_enc = get_all_layers(model.nnet_x_to_z.output_layers[0])\n",
    "layers_dec = get_all_layers(model.nnet_z_to_x.output_layers[0])\n",
    "\n",
    "for l in layers_enc[2], layers_dec[-2]:\n",
    "    plt.clf()\n",
    "    W = l.W.get_value()[:, 0]\n",
    "    print(W.shape)\n",
    "    grid_plot(W, imshow_options={\"cmap\": \"gray\"})\n",
    "    plt.show()"
   ]
  },
  {
   "cell_type": "code",
   "execution_count": null,
   "metadata": {
    "collapsed": false,
    "scrolled": true
   },
   "outputs": [],
   "source": [
    "from lasagne.easy import get_stat\n",
    "\n",
    "layer = 0\n",
    "train_stat = get_stat(\"rec_train\", models[layer].batch_optimizer.stats)\n",
    "test_stat = get_stat(\"rec_valid\", models[layer].batch_optimizer.stats)\n",
    "\n",
    "plt.plot(train_stat, label=\"train\")\n",
    "plt.plot(test_stat, label=\"valid\")\n",
    "plt.xlabel(\"epoch\")\n",
    "plt.ylabel(\"reconstruction error\")\n",
    "plt.legend()\n",
    "plt.title(\"reconstruction\")\n",
    "plt.show()\n",
    "\n",
    "epoch = get_stat(\"epoch\", models[layer].batch_optimizer.stats)\n",
    "acc_train = get_stat(\"acc_train\", models[layer].batch_optimizer.stats)\n",
    "acc_valid = get_stat(\"acc_valid\", models[layer].batch_optimizer.stats)\n",
    "plt.title(\"accuracy\")\n",
    "plt.plot(acc_train, label=\"train\")\n",
    "plt.plot(acc_valid, label=\"valid\")\n",
    "plt.xlabel(\"epoch\")\n",
    "plt.ylabel(\"accuracy\")\n",
    "plt.legend(loc='best')\n",
    "plt.show()\n"
   ]
  },
  {
   "cell_type": "code",
   "execution_count": null,
   "metadata": {
    "collapsed": true
   },
   "outputs": [],
   "source": []
  }
 ],
 "metadata": {
  "kernelspec": {
   "display_name": "Python 2",
   "language": "python",
   "name": "python2"
  },
  "language_info": {
   "codemirror_mode": {
    "name": "ipython",
    "version": 2
   },
   "file_extension": ".py",
   "mimetype": "text/x-python",
   "name": "python",
   "nbconvert_exporter": "python",
   "pygments_lexer": "ipython2",
   "version": "2.7.10"
  }
 },
 "nbformat": 4,
 "nbformat_minor": 0
}
